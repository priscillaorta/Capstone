{
 "cells": [
  {
   "cell_type": "markdown",
   "id": "0f5a882c",
   "metadata": {
    "id": "0f5a882c"
   },
   "source": [
    "# Pre-Analysis\n",
    "\n",
    "View data & prepare data for import into pgAdmin\n",
    "\n",
    "1. [Reformatting columns](#reformat)\n",
    "2. [Map codes for primary key/ foreign key relationships](#pkfk)\n",
    "3. [Filter aggregate level](#filter)\n",
    "4. [Add academic year](#ac_year)\n",
    "5. [View data types for SQL table creation](#dtypes)\n"
   ]
  },
  {
   "cell_type": "code",
   "execution_count": 1,
   "id": "06a5bbc6",
   "metadata": {
    "id": "06a5bbc6"
   },
   "outputs": [],
   "source": [
    "# import libraries\n",
    "\n",
    "import numpy as np\n",
    "import pandas as pd\n",
    "\n",
    "# set options\n",
    "\n",
    "pd.set_option('display.max_columns', 50)"
   ]
  },
  {
   "cell_type": "markdown",
   "id": "a26ed311",
   "metadata": {
    "id": "a26ed311"
   },
   "source": [
    "## free/reduced meal plans <a name = \"reformat\"></a>"
   ]
  },
  {
   "cell_type": "code",
   "execution_count": 2,
   "id": "06b690b9",
   "metadata": {
    "id": "06b690b9"
   },
   "outputs": [],
   "source": [
    "# read in csvs\n",
    "\n",
    "frmp_18 = pd.read_csv('data_files/csvs/frpm1718.csv')\n",
    "frmp_19 = pd.read_csv('data_files/csvs/frpm1819.csv')\n",
    "frmp_20 = pd.read_csv('data_files/csvs/frpm1920.csv')\n",
    "frmp_21 = pd.read_csv('data_files/csvs/frpm2021.csv')"
   ]
  },
  {
   "cell_type": "code",
   "execution_count": 3,
   "id": "93172187",
   "metadata": {
    "id": "93172187",
    "outputId": "6569fd6f-bd54-4e6c-e97e-42e28fd32d17"
   },
   "outputs": [
    {
     "data": {
      "text/html": [
       "<div>\n",
       "<style scoped>\n",
       "    .dataframe tbody tr th:only-of-type {\n",
       "        vertical-align: middle;\n",
       "    }\n",
       "\n",
       "    .dataframe tbody tr th {\n",
       "        vertical-align: top;\n",
       "    }\n",
       "\n",
       "    .dataframe thead th {\n",
       "        text-align: right;\n",
       "    }\n",
       "</style>\n",
       "<table border=\"1\" class=\"dataframe\">\n",
       "  <thead>\n",
       "    <tr style=\"text-align: right;\">\n",
       "      <th></th>\n",
       "      <th>Unduplicated Student Poverty – Free or Reduced Price Meals Data 2018–19</th>\n",
       "      <th>Unnamed: 1</th>\n",
       "      <th>Unnamed: 2</th>\n",
       "      <th>Unnamed: 3</th>\n",
       "      <th>Unnamed: 4</th>\n",
       "      <th>Unnamed: 5</th>\n",
       "      <th>Unnamed: 6</th>\n",
       "      <th>Unnamed: 7</th>\n",
       "      <th>Unnamed: 8</th>\n",
       "      <th>Unnamed: 9</th>\n",
       "      <th>Unnamed: 10</th>\n",
       "      <th>Unnamed: 11</th>\n",
       "      <th>Unnamed: 12</th>\n",
       "      <th>Unnamed: 13</th>\n",
       "      <th>Unnamed: 14</th>\n",
       "      <th>Unnamed: 15</th>\n",
       "      <th>Unnamed: 16</th>\n",
       "      <th>Unnamed: 17</th>\n",
       "      <th>Unnamed: 18</th>\n",
       "      <th>Unnamed: 19</th>\n",
       "      <th>Unnamed: 20</th>\n",
       "      <th>Unnamed: 21</th>\n",
       "      <th>Unnamed: 22</th>\n",
       "      <th>Unnamed: 23</th>\n",
       "      <th>Unnamed: 24</th>\n",
       "      <th>Unnamed: 25</th>\n",
       "      <th>Unnamed: 26</th>\n",
       "      <th>Unnamed: 27</th>\n",
       "    </tr>\n",
       "  </thead>\n",
       "  <tbody>\n",
       "    <tr>\n",
       "      <th>0</th>\n",
       "      <td>Academic Year</td>\n",
       "      <td>County Code</td>\n",
       "      <td>District Code</td>\n",
       "      <td>School Code</td>\n",
       "      <td>County Name</td>\n",
       "      <td>District Name</td>\n",
       "      <td>School Name</td>\n",
       "      <td>District Type</td>\n",
       "      <td>School Type</td>\n",
       "      <td>Educational \\nOption Type</td>\n",
       "      <td>NSLP \\nProvision \\nStatus</td>\n",
       "      <td>Charter \\nSchool \\n(Y/N)</td>\n",
       "      <td>Charter \\nSchool \\nNumber</td>\n",
       "      <td>Charter \\nFunding \\nType</td>\n",
       "      <td>IRC</td>\n",
       "      <td>Low Grade</td>\n",
       "      <td>High Grade</td>\n",
       "      <td>Enrollment \\n(K-12)</td>\n",
       "      <td>Free Meal \\nCount \\n(K-12)</td>\n",
       "      <td>Percent (%) \\nEligible Free \\n(K-12)</td>\n",
       "      <td>FRPM Count \\n(K-12)</td>\n",
       "      <td>Percent (%) \\nEligible FRPM \\n(K-12)</td>\n",
       "      <td>Enrollment \\n(Ages 5-17)</td>\n",
       "      <td>Free Meal \\nCount \\n(Ages 5-17)</td>\n",
       "      <td>Percent (%) \\nEligible Free \\n(Ages 5-17)</td>\n",
       "      <td>FRPM Count \\n(Ages 5-17)</td>\n",
       "      <td>Percent (%) \\nEligible FRPM \\n(Ages 5-17)</td>\n",
       "      <td>CALPADS Fall 1 \\nCertification Status</td>\n",
       "    </tr>\n",
       "    <tr>\n",
       "      <th>1</th>\n",
       "      <td>2018-2019</td>\n",
       "      <td>01</td>\n",
       "      <td>10017</td>\n",
       "      <td>0112607</td>\n",
       "      <td>Alameda</td>\n",
       "      <td>Alameda County Office of Education</td>\n",
       "      <td>Envision Academy for Arts &amp; Technology</td>\n",
       "      <td>County Office of Education (COE)</td>\n",
       "      <td>High Schools (Public)</td>\n",
       "      <td>Traditional</td>\n",
       "      <td>NaN</td>\n",
       "      <td>Yes</td>\n",
       "      <td>0811</td>\n",
       "      <td>Directly funded</td>\n",
       "      <td>Y</td>\n",
       "      <td>9</td>\n",
       "      <td>12</td>\n",
       "      <td>385</td>\n",
       "      <td>262</td>\n",
       "      <td>68.1%</td>\n",
       "      <td>306</td>\n",
       "      <td>79.5%</td>\n",
       "      <td>370</td>\n",
       "      <td>249</td>\n",
       "      <td>67.3%</td>\n",
       "      <td>291</td>\n",
       "      <td>78.6%</td>\n",
       "      <td>Y</td>\n",
       "    </tr>\n",
       "    <tr>\n",
       "      <th>2</th>\n",
       "      <td>2018-2019</td>\n",
       "      <td>01</td>\n",
       "      <td>10017</td>\n",
       "      <td>0123968</td>\n",
       "      <td>Alameda</td>\n",
       "      <td>Alameda County Office of Education</td>\n",
       "      <td>Community School for Creative Education</td>\n",
       "      <td>County Office of Education (COE)</td>\n",
       "      <td>Elementary Schools (Public)</td>\n",
       "      <td>Traditional</td>\n",
       "      <td>NaN</td>\n",
       "      <td>Yes</td>\n",
       "      <td>1284</td>\n",
       "      <td>Directly funded</td>\n",
       "      <td>Y</td>\n",
       "      <td>K</td>\n",
       "      <td>8</td>\n",
       "      <td>241</td>\n",
       "      <td>118</td>\n",
       "      <td>49.0%</td>\n",
       "      <td>120</td>\n",
       "      <td>49.8%</td>\n",
       "      <td>224</td>\n",
       "      <td>113</td>\n",
       "      <td>50.4%</td>\n",
       "      <td>115</td>\n",
       "      <td>51.3%</td>\n",
       "      <td>Y</td>\n",
       "    </tr>\n",
       "    <tr>\n",
       "      <th>3</th>\n",
       "      <td>2018-2019</td>\n",
       "      <td>01</td>\n",
       "      <td>10017</td>\n",
       "      <td>0124172</td>\n",
       "      <td>Alameda</td>\n",
       "      <td>Alameda County Office of Education</td>\n",
       "      <td>Yu Ming Charter</td>\n",
       "      <td>County Office of Education (COE)</td>\n",
       "      <td>Elementary Schools (Public)</td>\n",
       "      <td>Traditional</td>\n",
       "      <td>NaN</td>\n",
       "      <td>Yes</td>\n",
       "      <td>1296</td>\n",
       "      <td>Directly funded</td>\n",
       "      <td>Y</td>\n",
       "      <td>K</td>\n",
       "      <td>8</td>\n",
       "      <td>445</td>\n",
       "      <td>58</td>\n",
       "      <td>13.0%</td>\n",
       "      <td>64</td>\n",
       "      <td>14.4%</td>\n",
       "      <td>445</td>\n",
       "      <td>58</td>\n",
       "      <td>13.0%</td>\n",
       "      <td>64</td>\n",
       "      <td>14.4%</td>\n",
       "      <td>Y</td>\n",
       "    </tr>\n",
       "    <tr>\n",
       "      <th>4</th>\n",
       "      <td>2018-2019</td>\n",
       "      <td>01</td>\n",
       "      <td>10017</td>\n",
       "      <td>0125567</td>\n",
       "      <td>Alameda</td>\n",
       "      <td>Alameda County Office of Education</td>\n",
       "      <td>Urban Montessori Charter</td>\n",
       "      <td>County Office of Education (COE)</td>\n",
       "      <td>Elementary Schools (Public)</td>\n",
       "      <td>Traditional</td>\n",
       "      <td>NaN</td>\n",
       "      <td>Yes</td>\n",
       "      <td>1383</td>\n",
       "      <td>Directly funded</td>\n",
       "      <td>Y</td>\n",
       "      <td>K</td>\n",
       "      <td>8</td>\n",
       "      <td>432</td>\n",
       "      <td>113</td>\n",
       "      <td>26.2%</td>\n",
       "      <td>131</td>\n",
       "      <td>30.3%</td>\n",
       "      <td>418</td>\n",
       "      <td>111</td>\n",
       "      <td>26.6%</td>\n",
       "      <td>129</td>\n",
       "      <td>30.9%</td>\n",
       "      <td>Y</td>\n",
       "    </tr>\n",
       "  </tbody>\n",
       "</table>\n",
       "</div>"
      ],
      "text/plain": [
       "  Unduplicated Student Poverty – Free or Reduced Price Meals Data 2018–19   \\\n",
       "0                                      Academic Year                         \n",
       "1                                          2018-2019                         \n",
       "2                                          2018-2019                         \n",
       "3                                          2018-2019                         \n",
       "4                                          2018-2019                         \n",
       "\n",
       "    Unnamed: 1     Unnamed: 2   Unnamed: 3   Unnamed: 4  \\\n",
       "0  County Code  District Code  School Code  County Name   \n",
       "1           01          10017      0112607      Alameda   \n",
       "2           01          10017      0123968      Alameda   \n",
       "3           01          10017      0124172      Alameda   \n",
       "4           01          10017      0125567      Alameda   \n",
       "\n",
       "                           Unnamed: 5  \\\n",
       "0                       District Name   \n",
       "1  Alameda County Office of Education   \n",
       "2  Alameda County Office of Education   \n",
       "3  Alameda County Office of Education   \n",
       "4  Alameda County Office of Education   \n",
       "\n",
       "                                Unnamed: 6                        Unnamed: 7  \\\n",
       "0                              School Name                     District Type   \n",
       "1   Envision Academy for Arts & Technology  County Office of Education (COE)   \n",
       "2  Community School for Creative Education  County Office of Education (COE)   \n",
       "3                          Yu Ming Charter  County Office of Education (COE)   \n",
       "4                 Urban Montessori Charter  County Office of Education (COE)   \n",
       "\n",
       "                    Unnamed: 8                 Unnamed: 9  \\\n",
       "0                  School Type  Educational \\nOption Type   \n",
       "1        High Schools (Public)                Traditional   \n",
       "2  Elementary Schools (Public)                Traditional   \n",
       "3  Elementary Schools (Public)                Traditional   \n",
       "4  Elementary Schools (Public)                Traditional   \n",
       "\n",
       "                 Unnamed: 10               Unnamed: 11  \\\n",
       "0  NSLP \\nProvision \\nStatus  Charter \\nSchool \\n(Y/N)   \n",
       "1                        NaN                       Yes   \n",
       "2                        NaN                       Yes   \n",
       "3                        NaN                       Yes   \n",
       "4                        NaN                       Yes   \n",
       "\n",
       "                 Unnamed: 12               Unnamed: 13 Unnamed: 14  \\\n",
       "0  Charter \\nSchool \\nNumber  Charter \\nFunding \\nType         IRC   \n",
       "1                       0811           Directly funded           Y   \n",
       "2                       1284           Directly funded           Y   \n",
       "3                       1296           Directly funded           Y   \n",
       "4                       1383           Directly funded           Y   \n",
       "\n",
       "  Unnamed: 15 Unnamed: 16          Unnamed: 17                 Unnamed: 18  \\\n",
       "0   Low Grade  High Grade  Enrollment \\n(K-12)  Free Meal \\nCount \\n(K-12)   \n",
       "1           9          12                  385                         262   \n",
       "2           K           8                  241                         118   \n",
       "3           K           8                  445                          58   \n",
       "4           K           8                  432                         113   \n",
       "\n",
       "                            Unnamed: 19          Unnamed: 20  \\\n",
       "0  Percent (%) \\nEligible Free \\n(K-12)  FRPM Count \\n(K-12)   \n",
       "1                                 68.1%                  306   \n",
       "2                                 49.0%                  120   \n",
       "3                                 13.0%                   64   \n",
       "4                                 26.2%                  131   \n",
       "\n",
       "                            Unnamed: 21               Unnamed: 22  \\\n",
       "0  Percent (%) \\nEligible FRPM \\n(K-12)  Enrollment \\n(Ages 5-17)   \n",
       "1                                 79.5%                       370   \n",
       "2                                 49.8%                       224   \n",
       "3                                 14.4%                       445   \n",
       "4                                 30.3%                       418   \n",
       "\n",
       "                       Unnamed: 23                                Unnamed: 24  \\\n",
       "0  Free Meal \\nCount \\n(Ages 5-17)  Percent (%) \\nEligible Free \\n(Ages 5-17)   \n",
       "1                              249                                      67.3%   \n",
       "2                              113                                      50.4%   \n",
       "3                               58                                      13.0%   \n",
       "4                              111                                      26.6%   \n",
       "\n",
       "                Unnamed: 25                                Unnamed: 26  \\\n",
       "0  FRPM Count \\n(Ages 5-17)  Percent (%) \\nEligible FRPM \\n(Ages 5-17)   \n",
       "1                       291                                      78.6%   \n",
       "2                       115                                      51.3%   \n",
       "3                        64                                      14.4%   \n",
       "4                       129                                      30.9%   \n",
       "\n",
       "                             Unnamed: 27  \n",
       "0  CALPADS Fall 1 \\nCertification Status  \n",
       "1                                      Y  \n",
       "2                                      Y  \n",
       "3                                      Y  \n",
       "4                                      Y  "
      ]
     },
     "execution_count": 3,
     "metadata": {},
     "output_type": "execute_result"
    }
   ],
   "source": [
    "# take a look at data\n",
    "\n",
    "frmp_19.head()"
   ]
  },
  {
   "cell_type": "code",
   "execution_count": 5,
   "id": "87db2a56",
   "metadata": {
    "id": "87db2a56"
   },
   "outputs": [],
   "source": [
    "# reset columns; frpm_18\n",
    "\n",
    "frmp_18.columns = frmp_18.iloc[0]\n",
    "frmp_18.drop(index = 0, axis = 0, inplace = True)"
   ]
  },
  {
   "cell_type": "code",
   "execution_count": 6,
   "id": "4d381028",
   "metadata": {
    "id": "4d381028"
   },
   "outputs": [],
   "source": [
    "# reset columns; frpm_19\n",
    "\n",
    "frmp_19.columns = frmp_19.iloc[0]\n",
    "frmp_19.drop(index = 0, axis = 0, inplace = True)"
   ]
  },
  {
   "cell_type": "code",
   "execution_count": 7,
   "id": "1e0b1d33",
   "metadata": {
    "id": "1e0b1d33"
   },
   "outputs": [],
   "source": [
    "# reset columns; frpm_20\n",
    "\n",
    "frmp_20.columns = frmp_20.iloc[0]\n",
    "frmp_20.drop(index= 0, axis = 0, inplace = True)"
   ]
  },
  {
   "cell_type": "code",
   "execution_count": 8,
   "id": "e3d107db",
   "metadata": {
    "id": "e3d107db"
   },
   "outputs": [],
   "source": [
    "# reset columns; frpm_21\n",
    "\n",
    "frmp_21.columns = frmp_21.iloc[0]\n",
    "frmp_21.drop(index = 0, axis = 0, inplace = True)"
   ]
  },
  {
   "cell_type": "code",
   "execution_count": 9,
   "id": "196e1a7f",
   "metadata": {
    "id": "196e1a7f"
   },
   "outputs": [],
   "source": [
    "# concatenate dfs\n",
    "\n",
    "frmp = pd.concat([frmp_18, frmp_19, frmp_20, frmp_21])"
   ]
  },
  {
   "cell_type": "code",
   "execution_count": 10,
   "id": "5fe3d1b5",
   "metadata": {
    "id": "5fe3d1b5",
    "outputId": "d55a1e11-4620-4a16-fcec-f424fe41b316"
   },
   "outputs": [
    {
     "data": {
      "text/html": [
       "<div>\n",
       "<style scoped>\n",
       "    .dataframe tbody tr th:only-of-type {\n",
       "        vertical-align: middle;\n",
       "    }\n",
       "\n",
       "    .dataframe tbody tr th {\n",
       "        vertical-align: top;\n",
       "    }\n",
       "\n",
       "    .dataframe thead th {\n",
       "        text-align: right;\n",
       "    }\n",
       "</style>\n",
       "<table border=\"1\" class=\"dataframe\">\n",
       "  <thead>\n",
       "    <tr style=\"text-align: right;\">\n",
       "      <th></th>\n",
       "      <th>Academic Year</th>\n",
       "      <th>County Code</th>\n",
       "      <th>District Code</th>\n",
       "      <th>School Code</th>\n",
       "      <th>County Name</th>\n",
       "      <th>District Name</th>\n",
       "      <th>School Name</th>\n",
       "      <th>District Type</th>\n",
       "      <th>School Type</th>\n",
       "      <th>Educational \\nOption Type</th>\n",
       "      <th>NSLP \\nProvision \\nStatus</th>\n",
       "      <th>Charter \\nSchool \\n(Y/N)</th>\n",
       "      <th>Charter \\nSchool \\nNumber</th>\n",
       "      <th>Charter \\nFunding \\nType</th>\n",
       "      <th>IRC</th>\n",
       "      <th>Low Grade</th>\n",
       "      <th>High Grade</th>\n",
       "      <th>Enrollment \\n(K-12)</th>\n",
       "      <th>Free Meal \\nCount \\n(K-12)</th>\n",
       "      <th>Percent (%) \\nEligible Free \\n(K-12)</th>\n",
       "      <th>FRPM Count \\n(K-12)</th>\n",
       "      <th>Percent (%) \\nEligible FRPM \\n(K-12)</th>\n",
       "      <th>Enrollment \\n(Ages 5-17)</th>\n",
       "      <th>Free Meal \\nCount \\n(Ages 5-17)</th>\n",
       "      <th>Percent (%) \\nEligible Free \\n(Ages 5-17)</th>\n",
       "      <th>FRPM Count \\n(Ages 5-17)</th>\n",
       "      <th>Percent (%) \\nEligible FRPM \\n(Ages 5-17)</th>\n",
       "      <th>2017-18 \\nCALPADS Fall 1 \\nCertification Status</th>\n",
       "      <th>CALPADS Fall 1 \\nCertification Status</th>\n",
       "    </tr>\n",
       "  </thead>\n",
       "  <tbody>\n",
       "    <tr>\n",
       "      <th>1</th>\n",
       "      <td>2017-2018</td>\n",
       "      <td>01</td>\n",
       "      <td>10017</td>\n",
       "      <td>0112607</td>\n",
       "      <td>Alameda</td>\n",
       "      <td>Alameda County Office of Education</td>\n",
       "      <td>Envision Academy for Arts &amp; Technology</td>\n",
       "      <td>County Office of Education (COE)</td>\n",
       "      <td>High Schools (Public)</td>\n",
       "      <td>Traditional</td>\n",
       "      <td>NaN</td>\n",
       "      <td>Yes</td>\n",
       "      <td>0811</td>\n",
       "      <td>Directly funded</td>\n",
       "      <td>Y</td>\n",
       "      <td>9</td>\n",
       "      <td>12</td>\n",
       "      <td>413</td>\n",
       "      <td>265</td>\n",
       "      <td>64.2%</td>\n",
       "      <td>308</td>\n",
       "      <td>74.6%</td>\n",
       "      <td>401</td>\n",
       "      <td>258</td>\n",
       "      <td>64.3%</td>\n",
       "      <td>299</td>\n",
       "      <td>74.6%</td>\n",
       "      <td>Y</td>\n",
       "      <td>NaN</td>\n",
       "    </tr>\n",
       "    <tr>\n",
       "      <th>2</th>\n",
       "      <td>2017-2018</td>\n",
       "      <td>01</td>\n",
       "      <td>10017</td>\n",
       "      <td>0123968</td>\n",
       "      <td>Alameda</td>\n",
       "      <td>Alameda County Office of Education</td>\n",
       "      <td>Community School for Creative Education</td>\n",
       "      <td>County Office of Education (COE)</td>\n",
       "      <td>Elementary Schools (Public)</td>\n",
       "      <td>Traditional</td>\n",
       "      <td>NaN</td>\n",
       "      <td>Yes</td>\n",
       "      <td>1284</td>\n",
       "      <td>Directly funded</td>\n",
       "      <td>Y</td>\n",
       "      <td>K</td>\n",
       "      <td>8</td>\n",
       "      <td>252</td>\n",
       "      <td>169</td>\n",
       "      <td>67.1%</td>\n",
       "      <td>180</td>\n",
       "      <td>71.4%</td>\n",
       "      <td>233</td>\n",
       "      <td>153</td>\n",
       "      <td>65.7%</td>\n",
       "      <td>163</td>\n",
       "      <td>70.0%</td>\n",
       "      <td>Y</td>\n",
       "      <td>NaN</td>\n",
       "    </tr>\n",
       "    <tr>\n",
       "      <th>3</th>\n",
       "      <td>2017-2018</td>\n",
       "      <td>01</td>\n",
       "      <td>10017</td>\n",
       "      <td>0124172</td>\n",
       "      <td>Alameda</td>\n",
       "      <td>Alameda County Office of Education</td>\n",
       "      <td>Yu Ming Charter</td>\n",
       "      <td>County Office of Education (COE)</td>\n",
       "      <td>Elementary Schools (Public)</td>\n",
       "      <td>Traditional</td>\n",
       "      <td>NaN</td>\n",
       "      <td>Yes</td>\n",
       "      <td>1296</td>\n",
       "      <td>Directly funded</td>\n",
       "      <td>Y</td>\n",
       "      <td>K</td>\n",
       "      <td>8</td>\n",
       "      <td>387</td>\n",
       "      <td>49</td>\n",
       "      <td>12.7%</td>\n",
       "      <td>53</td>\n",
       "      <td>13.7%</td>\n",
       "      <td>387</td>\n",
       "      <td>49</td>\n",
       "      <td>12.7%</td>\n",
       "      <td>53</td>\n",
       "      <td>13.7%</td>\n",
       "      <td>Y</td>\n",
       "      <td>NaN</td>\n",
       "    </tr>\n",
       "    <tr>\n",
       "      <th>4</th>\n",
       "      <td>2017-2018</td>\n",
       "      <td>01</td>\n",
       "      <td>10017</td>\n",
       "      <td>0125567</td>\n",
       "      <td>Alameda</td>\n",
       "      <td>Alameda County Office of Education</td>\n",
       "      <td>Urban Montessori Charter</td>\n",
       "      <td>County Office of Education (COE)</td>\n",
       "      <td>Elementary Schools (Public)</td>\n",
       "      <td>Traditional</td>\n",
       "      <td>NaN</td>\n",
       "      <td>Yes</td>\n",
       "      <td>1383</td>\n",
       "      <td>Directly funded</td>\n",
       "      <td>Y</td>\n",
       "      <td>K</td>\n",
       "      <td>8</td>\n",
       "      <td>448</td>\n",
       "      <td>118</td>\n",
       "      <td>26.3%</td>\n",
       "      <td>127</td>\n",
       "      <td>28.3%</td>\n",
       "      <td>438</td>\n",
       "      <td>118</td>\n",
       "      <td>26.9%</td>\n",
       "      <td>127</td>\n",
       "      <td>29.0%</td>\n",
       "      <td>Y</td>\n",
       "      <td>NaN</td>\n",
       "    </tr>\n",
       "    <tr>\n",
       "      <th>5</th>\n",
       "      <td>2017-2018</td>\n",
       "      <td>01</td>\n",
       "      <td>10017</td>\n",
       "      <td>0130401</td>\n",
       "      <td>Alameda</td>\n",
       "      <td>Alameda County Office of Education</td>\n",
       "      <td>Alameda County Juvenile Hall/Court</td>\n",
       "      <td>County Office of Education (COE)</td>\n",
       "      <td>Juvenile Court Schools</td>\n",
       "      <td>Juvenile Court School</td>\n",
       "      <td>NaN</td>\n",
       "      <td>No</td>\n",
       "      <td>NaN</td>\n",
       "      <td>NaN</td>\n",
       "      <td>N</td>\n",
       "      <td>K</td>\n",
       "      <td>12</td>\n",
       "      <td>77</td>\n",
       "      <td>77</td>\n",
       "      <td>100.0%</td>\n",
       "      <td>77</td>\n",
       "      <td>100.0%</td>\n",
       "      <td>70</td>\n",
       "      <td>70</td>\n",
       "      <td>100.0%</td>\n",
       "      <td>70</td>\n",
       "      <td>100.0%</td>\n",
       "      <td>Y</td>\n",
       "      <td>NaN</td>\n",
       "    </tr>\n",
       "  </tbody>\n",
       "</table>\n",
       "</div>"
      ],
      "text/plain": [
       "0 Academic Year County Code District Code School Code County Name  \\\n",
       "1     2017-2018          01         10017     0112607     Alameda   \n",
       "2     2017-2018          01         10017     0123968     Alameda   \n",
       "3     2017-2018          01         10017     0124172     Alameda   \n",
       "4     2017-2018          01         10017     0125567     Alameda   \n",
       "5     2017-2018          01         10017     0130401     Alameda   \n",
       "\n",
       "0                       District Name  \\\n",
       "1  Alameda County Office of Education   \n",
       "2  Alameda County Office of Education   \n",
       "3  Alameda County Office of Education   \n",
       "4  Alameda County Office of Education   \n",
       "5  Alameda County Office of Education   \n",
       "\n",
       "0                              School Name                     District Type  \\\n",
       "1   Envision Academy for Arts & Technology  County Office of Education (COE)   \n",
       "2  Community School for Creative Education  County Office of Education (COE)   \n",
       "3                          Yu Ming Charter  County Office of Education (COE)   \n",
       "4                 Urban Montessori Charter  County Office of Education (COE)   \n",
       "5       Alameda County Juvenile Hall/Court  County Office of Education (COE)   \n",
       "\n",
       "0                  School Type Educational \\nOption Type  \\\n",
       "1        High Schools (Public)               Traditional   \n",
       "2  Elementary Schools (Public)               Traditional   \n",
       "3  Elementary Schools (Public)               Traditional   \n",
       "4  Elementary Schools (Public)               Traditional   \n",
       "5       Juvenile Court Schools     Juvenile Court School   \n",
       "\n",
       "0 NSLP \\nProvision \\nStatus Charter \\nSchool \\n(Y/N)  \\\n",
       "1                       NaN                      Yes   \n",
       "2                       NaN                      Yes   \n",
       "3                       NaN                      Yes   \n",
       "4                       NaN                      Yes   \n",
       "5                       NaN                      No    \n",
       "\n",
       "0 Charter \\nSchool \\nNumber Charter \\nFunding \\nType IRC Low Grade High Grade  \\\n",
       "1                      0811          Directly funded   Y         9         12   \n",
       "2                      1284          Directly funded   Y         K          8   \n",
       "3                      1296          Directly funded   Y         K          8   \n",
       "4                      1383          Directly funded   Y         K          8   \n",
       "5                       NaN                      NaN   N         K         12   \n",
       "\n",
       "0 Enrollment \\n(K-12) Free Meal \\nCount \\n(K-12)  \\\n",
       "1                 413                        265   \n",
       "2                 252                        169   \n",
       "3                 387                         49   \n",
       "4                 448                        118   \n",
       "5                  77                         77   \n",
       "\n",
       "0 Percent (%) \\nEligible Free \\n(K-12) FRPM Count \\n(K-12)  \\\n",
       "1                                64.2%                 308   \n",
       "2                                67.1%                 180   \n",
       "3                                12.7%                  53   \n",
       "4                                26.3%                 127   \n",
       "5                               100.0%                  77   \n",
       "\n",
       "0 Percent (%) \\nEligible FRPM \\n(K-12) Enrollment \\n(Ages 5-17)  \\\n",
       "1                                74.6%                      401   \n",
       "2                                71.4%                      233   \n",
       "3                                13.7%                      387   \n",
       "4                                28.3%                      438   \n",
       "5                               100.0%                       70   \n",
       "\n",
       "0 Free Meal \\nCount \\n(Ages 5-17) Percent (%) \\nEligible Free \\n(Ages 5-17)  \\\n",
       "1                             258                                     64.3%   \n",
       "2                             153                                     65.7%   \n",
       "3                              49                                     12.7%   \n",
       "4                             118                                     26.9%   \n",
       "5                              70                                    100.0%   \n",
       "\n",
       "0 FRPM Count \\n(Ages 5-17) Percent (%) \\nEligible FRPM \\n(Ages 5-17)  \\\n",
       "1                      299                                     74.6%   \n",
       "2                      163                                     70.0%   \n",
       "3                       53                                     13.7%   \n",
       "4                      127                                     29.0%   \n",
       "5                       70                                    100.0%   \n",
       "\n",
       "0 2017-18 \\nCALPADS Fall 1 \\nCertification Status  \\\n",
       "1                                               Y   \n",
       "2                                               Y   \n",
       "3                                               Y   \n",
       "4                                               Y   \n",
       "5                                               Y   \n",
       "\n",
       "0 CALPADS Fall 1 \\nCertification Status  \n",
       "1                                   NaN  \n",
       "2                                   NaN  \n",
       "3                                   NaN  \n",
       "4                                   NaN  \n",
       "5                                   NaN  "
      ]
     },
     "execution_count": 10,
     "metadata": {},
     "output_type": "execute_result"
    }
   ],
   "source": [
    "frmp.head()"
   ]
  },
  {
   "cell_type": "markdown",
   "id": "84ddcb35",
   "metadata": {
    "id": "84ddcb35"
   },
   "source": [
    "## districts <a name = \"pkfk\"></a>"
   ]
  },
  {
   "cell_type": "code",
   "execution_count": 12,
   "id": "b082c25b",
   "metadata": {
    "id": "b082c25b"
   },
   "outputs": [],
   "source": [
    "# read in csv \n",
    "\n",
    "districts = pd.read_csv('data_files/csvs/pubdistricts.csv')"
   ]
  },
  {
   "cell_type": "code",
   "execution_count": 13,
   "id": "dbcf2338",
   "metadata": {
    "id": "dbcf2338",
    "outputId": "7fdb7ac3-d893-4526-8a49-a0039d751571"
   },
   "outputs": [
    {
     "data": {
      "text/html": [
       "<div>\n",
       "<style scoped>\n",
       "    .dataframe tbody tr th:only-of-type {\n",
       "        vertical-align: middle;\n",
       "    }\n",
       "\n",
       "    .dataframe tbody tr th {\n",
       "        vertical-align: top;\n",
       "    }\n",
       "\n",
       "    .dataframe thead th {\n",
       "        text-align: right;\n",
       "    }\n",
       "</style>\n",
       "<table border=\"1\" class=\"dataframe\">\n",
       "  <thead>\n",
       "    <tr style=\"text-align: right;\">\n",
       "      <th></th>\n",
       "      <th>CD Code</th>\n",
       "      <th>County</th>\n",
       "      <th>District</th>\n",
       "      <th>Street</th>\n",
       "      <th>City</th>\n",
       "      <th>Zip</th>\n",
       "      <th>State</th>\n",
       "      <th>MailStreet</th>\n",
       "      <th>MailCity</th>\n",
       "      <th>MailZip</th>\n",
       "      <th>MailState</th>\n",
       "      <th>Phone</th>\n",
       "      <th>Ext</th>\n",
       "      <th>FaxNumber</th>\n",
       "      <th>Email</th>\n",
       "      <th>AdmFName</th>\n",
       "      <th>AdmLName</th>\n",
       "      <th>AdmEmail</th>\n",
       "      <th>Latitude</th>\n",
       "      <th>Longitude</th>\n",
       "      <th>DOC</th>\n",
       "      <th>DOCType</th>\n",
       "      <th>StatusType</th>\n",
       "      <th>LastUpDate</th>\n",
       "    </tr>\n",
       "  </thead>\n",
       "  <tbody>\n",
       "    <tr>\n",
       "      <th>0</th>\n",
       "      <td>110017</td>\n",
       "      <td>Alameda</td>\n",
       "      <td>Alameda County Office of Education</td>\n",
       "      <td>313 West Winton Avenue</td>\n",
       "      <td>Hayward</td>\n",
       "      <td>94544-1136</td>\n",
       "      <td>CA</td>\n",
       "      <td>313 West Winton Avenue</td>\n",
       "      <td>Hayward</td>\n",
       "      <td>94544-1136</td>\n",
       "      <td>CA</td>\n",
       "      <td>(510) 887-0152</td>\n",
       "      <td>No Data</td>\n",
       "      <td>No Data</td>\n",
       "      <td>No Data</td>\n",
       "      <td>Alysse</td>\n",
       "      <td>Castro</td>\n",
       "      <td>superintendent@acoe.org</td>\n",
       "      <td>37.658212</td>\n",
       "      <td>-122.09713</td>\n",
       "      <td>0</td>\n",
       "      <td>County Office of Education (COE)</td>\n",
       "      <td>Active</td>\n",
       "      <td>3/8/23</td>\n",
       "    </tr>\n",
       "    <tr>\n",
       "      <th>1</th>\n",
       "      <td>131609</td>\n",
       "      <td>Alameda</td>\n",
       "      <td>California School for the Blind (State Special...</td>\n",
       "      <td>500 Walnut Avenue</td>\n",
       "      <td>Fremont</td>\n",
       "      <td>94536-4365</td>\n",
       "      <td>CA</td>\n",
       "      <td>500 Walnut Avenue</td>\n",
       "      <td>Fremont</td>\n",
       "      <td>94536-4365</td>\n",
       "      <td>CA</td>\n",
       "      <td>(510) 794-3800</td>\n",
       "      <td>No Data</td>\n",
       "      <td>(510) 794-3813</td>\n",
       "      <td>info@csb-cde.ca.gov</td>\n",
       "      <td>Gina</td>\n",
       "      <td>Ouellette</td>\n",
       "      <td>gouellette@csb-cde.ca.gov</td>\n",
       "      <td>37.562576</td>\n",
       "      <td>-121.96563</td>\n",
       "      <td>31</td>\n",
       "      <td>State Special Schools</td>\n",
       "      <td>Active</td>\n",
       "      <td>3/8/24</td>\n",
       "    </tr>\n",
       "    <tr>\n",
       "      <th>2</th>\n",
       "      <td>131617</td>\n",
       "      <td>Alameda</td>\n",
       "      <td>California School for the Deaf-Fremont (State ...</td>\n",
       "      <td>39350 Gallaudet Drive</td>\n",
       "      <td>Fremont</td>\n",
       "      <td>94538-2308</td>\n",
       "      <td>CA</td>\n",
       "      <td>39350 Gallaudet Drive</td>\n",
       "      <td>Fremont</td>\n",
       "      <td>94538-2308</td>\n",
       "      <td>CA</td>\n",
       "      <td>(510) 794-3666</td>\n",
       "      <td>No Data</td>\n",
       "      <td>(510) 794-3797</td>\n",
       "      <td>rbye@csdf-cde.ca.gov</td>\n",
       "      <td>Amy</td>\n",
       "      <td>Novotny</td>\n",
       "      <td>anovotny@csdf-cde.ca.gov</td>\n",
       "      <td>37.558956</td>\n",
       "      <td>-121.96551</td>\n",
       "      <td>31</td>\n",
       "      <td>State Special Schools</td>\n",
       "      <td>Active</td>\n",
       "      <td>3/1/24</td>\n",
       "    </tr>\n",
       "    <tr>\n",
       "      <th>3</th>\n",
       "      <td>161119</td>\n",
       "      <td>Alameda</td>\n",
       "      <td>Alameda Unified</td>\n",
       "      <td>2060 Challenger Dr</td>\n",
       "      <td>Alameda</td>\n",
       "      <td>94501-1037</td>\n",
       "      <td>CA</td>\n",
       "      <td>2060 Challenger Dr</td>\n",
       "      <td>Alameda</td>\n",
       "      <td>94501-1037</td>\n",
       "      <td>CA</td>\n",
       "      <td>(510) 337-7000</td>\n",
       "      <td>No Data</td>\n",
       "      <td>No Data</td>\n",
       "      <td>No Data</td>\n",
       "      <td>Pasquale</td>\n",
       "      <td>Scuderi</td>\n",
       "      <td>pscuderi@alamedaunified.org</td>\n",
       "      <td>37.782147</td>\n",
       "      <td>-122.27009</td>\n",
       "      <td>54</td>\n",
       "      <td>Unified School District</td>\n",
       "      <td>Active</td>\n",
       "      <td>3/23/22</td>\n",
       "    </tr>\n",
       "    <tr>\n",
       "      <th>4</th>\n",
       "      <td>161127</td>\n",
       "      <td>Alameda</td>\n",
       "      <td>Albany City Unified</td>\n",
       "      <td>1216 Solano Avenue</td>\n",
       "      <td>Albany</td>\n",
       "      <td>94706-1725</td>\n",
       "      <td>CA</td>\n",
       "      <td>1216 Solano Avenue</td>\n",
       "      <td>Albany</td>\n",
       "      <td>94706-1725</td>\n",
       "      <td>CA</td>\n",
       "      <td>(510) 558-3750</td>\n",
       "      <td>No Data</td>\n",
       "      <td>(510) 559-6560</td>\n",
       "      <td>No Data</td>\n",
       "      <td>Frank</td>\n",
       "      <td>Wells</td>\n",
       "      <td>fwells@ausdk12.org</td>\n",
       "      <td>37.890302</td>\n",
       "      <td>-122.29575</td>\n",
       "      <td>54</td>\n",
       "      <td>Unified School District</td>\n",
       "      <td>Active</td>\n",
       "      <td>10/24/23</td>\n",
       "    </tr>\n",
       "  </tbody>\n",
       "</table>\n",
       "</div>"
      ],
      "text/plain": [
       "   CD Code   County                                           District  \\\n",
       "0   110017  Alameda                 Alameda County Office of Education   \n",
       "1   131609  Alameda  California School for the Blind (State Special...   \n",
       "2   131617  Alameda  California School for the Deaf-Fremont (State ...   \n",
       "3   161119  Alameda                                    Alameda Unified   \n",
       "4   161127  Alameda                                Albany City Unified   \n",
       "\n",
       "                   Street     City         Zip State              MailStreet  \\\n",
       "0  313 West Winton Avenue  Hayward  94544-1136    CA  313 West Winton Avenue   \n",
       "1       500 Walnut Avenue  Fremont  94536-4365    CA       500 Walnut Avenue   \n",
       "2   39350 Gallaudet Drive  Fremont  94538-2308    CA   39350 Gallaudet Drive   \n",
       "3      2060 Challenger Dr  Alameda  94501-1037    CA      2060 Challenger Dr   \n",
       "4      1216 Solano Avenue   Albany  94706-1725    CA      1216 Solano Avenue   \n",
       "\n",
       "  MailCity     MailZip MailState           Phone    Ext         FaxNumber  \\\n",
       "0  Hayward  94544-1136        CA  (510) 887-0152  No Data         No Data   \n",
       "1  Fremont  94536-4365        CA  (510) 794-3800  No Data  (510) 794-3813   \n",
       "2  Fremont  94538-2308        CA  (510) 794-3666  No Data  (510) 794-3797   \n",
       "3  Alameda  94501-1037        CA  (510) 337-7000  No Data         No Data   \n",
       "4   Albany  94706-1725        CA  (510) 558-3750  No Data  (510) 559-6560   \n",
       "\n",
       "                  Email  AdmFName   AdmLName                     AdmEmail  \\\n",
       "0               No Data    Alysse     Castro      superintendent@acoe.org   \n",
       "1   info@csb-cde.ca.gov      Gina  Ouellette    gouellette@csb-cde.ca.gov   \n",
       "2  rbye@csdf-cde.ca.gov       Amy    Novotny     anovotny@csdf-cde.ca.gov   \n",
       "3               No Data  Pasquale    Scuderi  pscuderi@alamedaunified.org   \n",
       "4               No Data     Frank      Wells           fwells@ausdk12.org   \n",
       "\n",
       "    Latitude  Longitude  DOC                           DOCType StatusType  \\\n",
       "0  37.658212 -122.09713    0  County Office of Education (COE)     Active   \n",
       "1  37.562576 -121.96563   31             State Special Schools     Active   \n",
       "2  37.558956 -121.96551   31             State Special Schools     Active   \n",
       "3  37.782147 -122.27009   54           Unified School District     Active   \n",
       "4  37.890302 -122.29575   54           Unified School District     Active   \n",
       "\n",
       "  LastUpDate  \n",
       "0     3/8/23  \n",
       "1     3/8/24  \n",
       "2     3/1/24  \n",
       "3    3/23/22  \n",
       "4   10/24/23  "
      ]
     },
     "execution_count": 13,
     "metadata": {},
     "output_type": "execute_result"
    }
   ],
   "source": [
    "# take a look at data \n",
    "\n",
    "districts.head()"
   ]
  },
  {
   "cell_type": "code",
   "execution_count": 14,
   "id": "bdea580d",
   "metadata": {
    "id": "bdea580d"
   },
   "outputs": [],
   "source": [
    "## create a dictionary from frmp; counties/county_codes\n",
    "\n",
    "cc_dict = frmp[['County Name', 'County Code']]\n",
    "cc_dict = cc_dict.set_index('County Name')['County Code'].to_dict()"
   ]
  },
  {
   "cell_type": "code",
   "execution_count": 15,
   "id": "edf842d8",
   "metadata": {
    "id": "edf842d8"
   },
   "outputs": [],
   "source": [
    "# map cc_dict to county name to add a county code column\n",
    "\n",
    "districts['county_code'] = districts['County'].map(cc_dict)"
   ]
  },
  {
   "cell_type": "code",
   "execution_count": 16,
   "id": "21e15617",
   "metadata": {
    "id": "21e15617"
   },
   "outputs": [],
   "source": [
    "## change cds_code to proper data type\n",
    "\n",
    "districts['CD Code'] = districts['CD Code'].astype('string')"
   ]
  },
  {
   "cell_type": "code",
   "execution_count": 17,
   "id": "73f32297",
   "metadata": {
    "id": "73f32297"
   },
   "outputs": [],
   "source": [
    "# filter schools for data that will be used in database\n",
    "\n",
    "districts = districts[['county_code', 'CD Code', 'County', 'District', 'Street', 'City', 'Zip',\n",
    "                      'State', 'Phone', 'FaxNumber', 'Email', 'AdmEmail', 'Latitude', 'Longitude', 'DOC',\n",
    "                      'DOCType', 'StatusType', 'LastUpDate']]"
   ]
  },
  {
   "cell_type": "code",
   "execution_count": 19,
   "id": "59f716d3",
   "metadata": {},
   "outputs": [
    {
     "data": {
      "text/html": [
       "<div>\n",
       "<style scoped>\n",
       "    .dataframe tbody tr th:only-of-type {\n",
       "        vertical-align: middle;\n",
       "    }\n",
       "\n",
       "    .dataframe tbody tr th {\n",
       "        vertical-align: top;\n",
       "    }\n",
       "\n",
       "    .dataframe thead th {\n",
       "        text-align: right;\n",
       "    }\n",
       "</style>\n",
       "<table border=\"1\" class=\"dataframe\">\n",
       "  <thead>\n",
       "    <tr style=\"text-align: right;\">\n",
       "      <th></th>\n",
       "      <th>county_code</th>\n",
       "      <th>CD Code</th>\n",
       "      <th>County</th>\n",
       "      <th>District</th>\n",
       "      <th>Street</th>\n",
       "      <th>City</th>\n",
       "      <th>Zip</th>\n",
       "      <th>State</th>\n",
       "      <th>Phone</th>\n",
       "      <th>FaxNumber</th>\n",
       "      <th>Email</th>\n",
       "      <th>AdmEmail</th>\n",
       "      <th>Latitude</th>\n",
       "      <th>Longitude</th>\n",
       "      <th>DOC</th>\n",
       "      <th>DOCType</th>\n",
       "      <th>StatusType</th>\n",
       "      <th>LastUpDate</th>\n",
       "    </tr>\n",
       "  </thead>\n",
       "  <tbody>\n",
       "    <tr>\n",
       "      <th>0</th>\n",
       "      <td>01</td>\n",
       "      <td>110017</td>\n",
       "      <td>Alameda</td>\n",
       "      <td>Alameda County Office of Education</td>\n",
       "      <td>313 West Winton Avenue</td>\n",
       "      <td>Hayward</td>\n",
       "      <td>94544-1136</td>\n",
       "      <td>CA</td>\n",
       "      <td>(510) 887-0152</td>\n",
       "      <td>No Data</td>\n",
       "      <td>No Data</td>\n",
       "      <td>superintendent@acoe.org</td>\n",
       "      <td>37.658212</td>\n",
       "      <td>-122.09713</td>\n",
       "      <td>0</td>\n",
       "      <td>County Office of Education (COE)</td>\n",
       "      <td>Active</td>\n",
       "      <td>3/8/23</td>\n",
       "    </tr>\n",
       "    <tr>\n",
       "      <th>1</th>\n",
       "      <td>01</td>\n",
       "      <td>131609</td>\n",
       "      <td>Alameda</td>\n",
       "      <td>California School for the Blind (State Special...</td>\n",
       "      <td>500 Walnut Avenue</td>\n",
       "      <td>Fremont</td>\n",
       "      <td>94536-4365</td>\n",
       "      <td>CA</td>\n",
       "      <td>(510) 794-3800</td>\n",
       "      <td>(510) 794-3813</td>\n",
       "      <td>info@csb-cde.ca.gov</td>\n",
       "      <td>gouellette@csb-cde.ca.gov</td>\n",
       "      <td>37.562576</td>\n",
       "      <td>-121.96563</td>\n",
       "      <td>31</td>\n",
       "      <td>State Special Schools</td>\n",
       "      <td>Active</td>\n",
       "      <td>3/8/24</td>\n",
       "    </tr>\n",
       "    <tr>\n",
       "      <th>2</th>\n",
       "      <td>01</td>\n",
       "      <td>131617</td>\n",
       "      <td>Alameda</td>\n",
       "      <td>California School for the Deaf-Fremont (State ...</td>\n",
       "      <td>39350 Gallaudet Drive</td>\n",
       "      <td>Fremont</td>\n",
       "      <td>94538-2308</td>\n",
       "      <td>CA</td>\n",
       "      <td>(510) 794-3666</td>\n",
       "      <td>(510) 794-3797</td>\n",
       "      <td>rbye@csdf-cde.ca.gov</td>\n",
       "      <td>anovotny@csdf-cde.ca.gov</td>\n",
       "      <td>37.558956</td>\n",
       "      <td>-121.96551</td>\n",
       "      <td>31</td>\n",
       "      <td>State Special Schools</td>\n",
       "      <td>Active</td>\n",
       "      <td>3/1/24</td>\n",
       "    </tr>\n",
       "    <tr>\n",
       "      <th>3</th>\n",
       "      <td>01</td>\n",
       "      <td>161119</td>\n",
       "      <td>Alameda</td>\n",
       "      <td>Alameda Unified</td>\n",
       "      <td>2060 Challenger Dr</td>\n",
       "      <td>Alameda</td>\n",
       "      <td>94501-1037</td>\n",
       "      <td>CA</td>\n",
       "      <td>(510) 337-7000</td>\n",
       "      <td>No Data</td>\n",
       "      <td>No Data</td>\n",
       "      <td>pscuderi@alamedaunified.org</td>\n",
       "      <td>37.782147</td>\n",
       "      <td>-122.27009</td>\n",
       "      <td>54</td>\n",
       "      <td>Unified School District</td>\n",
       "      <td>Active</td>\n",
       "      <td>3/23/22</td>\n",
       "    </tr>\n",
       "    <tr>\n",
       "      <th>4</th>\n",
       "      <td>01</td>\n",
       "      <td>161127</td>\n",
       "      <td>Alameda</td>\n",
       "      <td>Albany City Unified</td>\n",
       "      <td>1216 Solano Avenue</td>\n",
       "      <td>Albany</td>\n",
       "      <td>94706-1725</td>\n",
       "      <td>CA</td>\n",
       "      <td>(510) 558-3750</td>\n",
       "      <td>(510) 559-6560</td>\n",
       "      <td>No Data</td>\n",
       "      <td>fwells@ausdk12.org</td>\n",
       "      <td>37.890302</td>\n",
       "      <td>-122.29575</td>\n",
       "      <td>54</td>\n",
       "      <td>Unified School District</td>\n",
       "      <td>Active</td>\n",
       "      <td>10/24/23</td>\n",
       "    </tr>\n",
       "  </tbody>\n",
       "</table>\n",
       "</div>"
      ],
      "text/plain": [
       "  county_code CD Code   County  \\\n",
       "0          01  110017  Alameda   \n",
       "1          01  131609  Alameda   \n",
       "2          01  131617  Alameda   \n",
       "3          01  161119  Alameda   \n",
       "4          01  161127  Alameda   \n",
       "\n",
       "                                            District                  Street  \\\n",
       "0                 Alameda County Office of Education  313 West Winton Avenue   \n",
       "1  California School for the Blind (State Special...       500 Walnut Avenue   \n",
       "2  California School for the Deaf-Fremont (State ...   39350 Gallaudet Drive   \n",
       "3                                    Alameda Unified      2060 Challenger Dr   \n",
       "4                                Albany City Unified      1216 Solano Avenue   \n",
       "\n",
       "      City         Zip State           Phone       FaxNumber  \\\n",
       "0  Hayward  94544-1136    CA  (510) 887-0152         No Data   \n",
       "1  Fremont  94536-4365    CA  (510) 794-3800  (510) 794-3813   \n",
       "2  Fremont  94538-2308    CA  (510) 794-3666  (510) 794-3797   \n",
       "3  Alameda  94501-1037    CA  (510) 337-7000         No Data   \n",
       "4   Albany  94706-1725    CA  (510) 558-3750  (510) 559-6560   \n",
       "\n",
       "                  Email                     AdmEmail   Latitude  Longitude  \\\n",
       "0               No Data      superintendent@acoe.org  37.658212 -122.09713   \n",
       "1   info@csb-cde.ca.gov    gouellette@csb-cde.ca.gov  37.562576 -121.96563   \n",
       "2  rbye@csdf-cde.ca.gov     anovotny@csdf-cde.ca.gov  37.558956 -121.96551   \n",
       "3               No Data  pscuderi@alamedaunified.org  37.782147 -122.27009   \n",
       "4               No Data           fwells@ausdk12.org  37.890302 -122.29575   \n",
       "\n",
       "   DOC                           DOCType StatusType LastUpDate  \n",
       "0    0  County Office of Education (COE)     Active     3/8/23  \n",
       "1   31             State Special Schools     Active     3/8/24  \n",
       "2   31             State Special Schools     Active     3/1/24  \n",
       "3   54           Unified School District     Active    3/23/22  \n",
       "4   54           Unified School District     Active   10/24/23  "
      ]
     },
     "execution_count": 19,
     "metadata": {},
     "output_type": "execute_result"
    }
   ],
   "source": [
    "districts.head()"
   ]
  },
  {
   "cell_type": "markdown",
   "id": "58bb9845",
   "metadata": {
    "id": "58bb9845"
   },
   "source": [
    "## schools"
   ]
  },
  {
   "cell_type": "code",
   "execution_count": 16,
   "id": "bb43b4b0",
   "metadata": {
    "id": "bb43b4b0"
   },
   "outputs": [],
   "source": [
    "# read csv\n",
    "\n",
    "schools = pd.read_csv('data_files/csvs/pubschls.csv')"
   ]
  },
  {
   "cell_type": "code",
   "execution_count": 17,
   "id": "c8d09db2",
   "metadata": {
    "id": "c8d09db2",
    "outputId": "4a071df8-6fe6-4be1-e86f-82ddc2364295"
   },
   "outputs": [],
   "source": [
    "#schools"
   ]
  },
  {
   "cell_type": "code",
   "execution_count": 18,
   "id": "f7aeba6b",
   "metadata": {
    "id": "f7aeba6b"
   },
   "outputs": [],
   "source": [
    "## add county code\n",
    "\n",
    "schools['County Code'] = schools['County'].map(cc_dict)"
   ]
  },
  {
   "cell_type": "code",
   "execution_count": 20,
   "id": "aaa2243f",
   "metadata": {
    "id": "aaa2243f"
   },
   "outputs": [],
   "source": [
    "## change CDS Code to proper data type\n",
    "\n",
    "schools['CDSCode'] = schools['CDSCode'].astype(int)\n",
    "schools['CDSCode'] = schools['CDSCode'].astype('string')"
   ]
  },
  {
   "cell_type": "code",
   "execution_count": 21,
   "id": "dd28398f",
   "metadata": {
    "id": "dd28398f"
   },
   "outputs": [],
   "source": [
    "# replace * and 'No Data' with np.nan\n",
    "\n",
    "schools = schools.replace('*', np.nan)\n",
    "schools = schools.replace('No Data', np.nan)"
   ]
  },
  {
   "cell_type": "code",
   "execution_count": 22,
   "id": "685f4c86",
   "metadata": {
    "id": "685f4c86"
   },
   "outputs": [],
   "source": [
    "## create schools_cds object for merging with other dfs\n",
    "\n",
    "cds_schools = schools[['County', 'District', 'School', 'CDSCode']]"
   ]
  },
  {
   "cell_type": "code",
   "execution_count": 23,
   "id": "7c968fc9",
   "metadata": {
    "id": "7c968fc9"
   },
   "outputs": [],
   "source": [
    "# filter schools for data that will be used in database\n",
    "\n",
    "schools = schools[['County Code', 'CDSCode', 'County', 'District', 'School','StatusType',  'Street', 'City', 'Zip',\n",
    "         'State', 'Phone', 'FaxNumber', 'Email', 'WebSite', 'OpenDate', 'ClosedDate', 'Charter', 'SOC',\n",
    "        'SOCType', 'EdOpsName', 'EILName', 'GSoffered', 'Virtual', 'YearRoundYN', 'Latitude', 'Longitude',\n",
    "        'AdmEmail', 'LastUpDate']]"
   ]
  },
  {
   "cell_type": "markdown",
   "id": "0f635e90",
   "metadata": {
    "id": "0f635e90"
   },
   "source": [
    "## absents <a name = \"filter\"></a>"
   ]
  },
  {
   "cell_type": "code",
   "execution_count": 20,
   "id": "758b735f",
   "metadata": {
    "id": "758b735f"
   },
   "outputs": [],
   "source": [
    "# read in csvs\n",
    "## note that there is no data for 2020-2021 due to COVID-19\n",
    "\n",
    "absents_18 = pd.read_csv('data_files/csvs/absenteeismreason18.csv')\n",
    "absents_19 = pd.read_csv('data_files/csvs/absenteeismreason19.csv')\n",
    "absents_21  = pd.read_csv('data_files/csvs/absenteeismreason21.csv')"
   ]
  },
  {
   "cell_type": "code",
   "execution_count": 21,
   "id": "4d1ba5b8",
   "metadata": {
    "id": "4d1ba5b8"
   },
   "outputs": [],
   "source": [
    "## concatenate dfs together\n",
    "\n",
    "absents = pd.concat([absents_18, absents_19, absents_21])"
   ]
  },
  {
   "cell_type": "code",
   "execution_count": 22,
   "id": "b8d08f11",
   "metadata": {
    "id": "b8d08f11",
    "outputId": "19d5a65a-91c8-463d-be19-451ce3df3b25"
   },
   "outputs": [
    {
     "data": {
      "text/html": [
       "<div>\n",
       "<style scoped>\n",
       "    .dataframe tbody tr th:only-of-type {\n",
       "        vertical-align: middle;\n",
       "    }\n",
       "\n",
       "    .dataframe tbody tr th {\n",
       "        vertical-align: top;\n",
       "    }\n",
       "\n",
       "    .dataframe thead th {\n",
       "        text-align: right;\n",
       "    }\n",
       "</style>\n",
       "<table border=\"1\" class=\"dataframe\">\n",
       "  <thead>\n",
       "    <tr style=\"text-align: right;\">\n",
       "      <th></th>\n",
       "      <th>Academic Year</th>\n",
       "      <th>Aggregate Level</th>\n",
       "      <th>County Code</th>\n",
       "      <th>District Code</th>\n",
       "      <th>School Code</th>\n",
       "      <th>County Name</th>\n",
       "      <th>District Name</th>\n",
       "      <th>School Name</th>\n",
       "      <th>Charter School</th>\n",
       "      <th>DASS</th>\n",
       "      <th>Reporting Category</th>\n",
       "      <th>Eligible Cumulative Enrollment</th>\n",
       "      <th>Count of Students with One or More Absences</th>\n",
       "      <th>Average Days Absent</th>\n",
       "      <th>Total Days Absent</th>\n",
       "      <th>Excused Absences (percent)</th>\n",
       "      <th>Unexcused Absences (percent)</th>\n",
       "      <th>Out-of-School Suspension Absences (percent)</th>\n",
       "      <th>Incomplete Independent Study Absences (percent)</th>\n",
       "      <th>Excused Absences (count)</th>\n",
       "      <th>Unexcused Absences (count)</th>\n",
       "      <th>Out-of-School Suspension Absences (count)</th>\n",
       "      <th>Incomplete Independent Study Absences (count)</th>\n",
       "    </tr>\n",
       "  </thead>\n",
       "  <tbody>\n",
       "    <tr>\n",
       "      <th>0</th>\n",
       "      <td>2017-18</td>\n",
       "      <td>T</td>\n",
       "      <td>0</td>\n",
       "      <td>NaN</td>\n",
       "      <td>NaN</td>\n",
       "      <td>State</td>\n",
       "      <td>NaN</td>\n",
       "      <td>NaN</td>\n",
       "      <td>All</td>\n",
       "      <td>All</td>\n",
       "      <td>CAN</td>\n",
       "      <td>5612600</td>\n",
       "      <td>4787734</td>\n",
       "      <td>6.2</td>\n",
       "      <td>29473982.3</td>\n",
       "      <td>64.7</td>\n",
       "      <td>32.9</td>\n",
       "      <td>1.2</td>\n",
       "      <td>1.3</td>\n",
       "      <td>19064169</td>\n",
       "      <td>9683632</td>\n",
       "      <td>349160.2</td>\n",
       "      <td>377021</td>\n",
       "    </tr>\n",
       "    <tr>\n",
       "      <th>1</th>\n",
       "      <td>2017-18</td>\n",
       "      <td>T</td>\n",
       "      <td>0</td>\n",
       "      <td>NaN</td>\n",
       "      <td>NaN</td>\n",
       "      <td>State</td>\n",
       "      <td>NaN</td>\n",
       "      <td>NaN</td>\n",
       "      <td>All</td>\n",
       "      <td>No</td>\n",
       "      <td>CAN</td>\n",
       "      <td>5534347</td>\n",
       "      <td>4728393</td>\n",
       "      <td>6.1</td>\n",
       "      <td>28925997.2</td>\n",
       "      <td>65.2</td>\n",
       "      <td>32.8</td>\n",
       "      <td>1.2</td>\n",
       "      <td>0.8</td>\n",
       "      <td>18870613.8</td>\n",
       "      <td>9479676.1</td>\n",
       "      <td>333743.4</td>\n",
       "      <td>241964</td>\n",
       "    </tr>\n",
       "    <tr>\n",
       "      <th>2</th>\n",
       "      <td>2017-18</td>\n",
       "      <td>T</td>\n",
       "      <td>0</td>\n",
       "      <td>NaN</td>\n",
       "      <td>NaN</td>\n",
       "      <td>State</td>\n",
       "      <td>NaN</td>\n",
       "      <td>NaN</td>\n",
       "      <td>All</td>\n",
       "      <td>Yes</td>\n",
       "      <td>CAN</td>\n",
       "      <td>113249</td>\n",
       "      <td>75241</td>\n",
       "      <td>6.5</td>\n",
       "      <td>485734.3</td>\n",
       "      <td>35.5</td>\n",
       "      <td>36.9</td>\n",
       "      <td>2</td>\n",
       "      <td>25.5</td>\n",
       "      <td>172644.4</td>\n",
       "      <td>179284.9</td>\n",
       "      <td>9843</td>\n",
       "      <td>123962.1</td>\n",
       "    </tr>\n",
       "    <tr>\n",
       "      <th>3</th>\n",
       "      <td>2017-18</td>\n",
       "      <td>T</td>\n",
       "      <td>0</td>\n",
       "      <td>NaN</td>\n",
       "      <td>NaN</td>\n",
       "      <td>State</td>\n",
       "      <td>NaN</td>\n",
       "      <td>NaN</td>\n",
       "      <td>No</td>\n",
       "      <td>All</td>\n",
       "      <td>CAN</td>\n",
       "      <td>5058881</td>\n",
       "      <td>4388703</td>\n",
       "      <td>6.1</td>\n",
       "      <td>26928261</td>\n",
       "      <td>65.8</td>\n",
       "      <td>32.5</td>\n",
       "      <td>1.2</td>\n",
       "      <td>0.5</td>\n",
       "      <td>17708600.7</td>\n",
       "      <td>8755769.3</td>\n",
       "      <td>327070.8</td>\n",
       "      <td>136820.2</td>\n",
       "    </tr>\n",
       "    <tr>\n",
       "      <th>4</th>\n",
       "      <td>2017-18</td>\n",
       "      <td>T</td>\n",
       "      <td>0</td>\n",
       "      <td>NaN</td>\n",
       "      <td>NaN</td>\n",
       "      <td>State</td>\n",
       "      <td>NaN</td>\n",
       "      <td>NaN</td>\n",
       "      <td>No</td>\n",
       "      <td>No</td>\n",
       "      <td>CAN</td>\n",
       "      <td>5019497</td>\n",
       "      <td>4353683</td>\n",
       "      <td>6.1</td>\n",
       "      <td>26578201.4</td>\n",
       "      <td>66</td>\n",
       "      <td>32.4</td>\n",
       "      <td>1.2</td>\n",
       "      <td>0.4</td>\n",
       "      <td>17545022.8</td>\n",
       "      <td>8601411.1</td>\n",
       "      <td>314734.6</td>\n",
       "      <td>117033</td>\n",
       "    </tr>\n",
       "  </tbody>\n",
       "</table>\n",
       "</div>"
      ],
      "text/plain": [
       "  Academic Year Aggregate Level  County Code  District Code  School Code  \\\n",
       "0       2017-18               T            0            NaN          NaN   \n",
       "1       2017-18               T            0            NaN          NaN   \n",
       "2       2017-18               T            0            NaN          NaN   \n",
       "3       2017-18               T            0            NaN          NaN   \n",
       "4       2017-18               T            0            NaN          NaN   \n",
       "\n",
       "  County Name District Name School Name Charter School DASS  \\\n",
       "0       State           NaN         NaN            All  All   \n",
       "1       State           NaN         NaN            All  No    \n",
       "2       State           NaN         NaN            All  Yes   \n",
       "3       State           NaN         NaN            No   All   \n",
       "4       State           NaN         NaN            No   No    \n",
       "\n",
       "  Reporting Category Eligible Cumulative Enrollment  \\\n",
       "0                CAN                        5612600   \n",
       "1                CAN                        5534347   \n",
       "2                CAN                         113249   \n",
       "3                CAN                        5058881   \n",
       "4                CAN                        5019497   \n",
       "\n",
       "  Count of Students with One or More Absences Average Days Absent  \\\n",
       "0                                     4787734                 6.2   \n",
       "1                                     4728393                 6.1   \n",
       "2                                       75241                 6.5   \n",
       "3                                     4388703                 6.1   \n",
       "4                                     4353683                 6.1   \n",
       "\n",
       "  Total Days Absent Excused Absences (percent) Unexcused Absences (percent)  \\\n",
       "0        29473982.3                       64.7                         32.9   \n",
       "1        28925997.2                       65.2                         32.8   \n",
       "2          485734.3                       35.5                         36.9   \n",
       "3          26928261                       65.8                         32.5   \n",
       "4        26578201.4                         66                         32.4   \n",
       "\n",
       "  Out-of-School Suspension Absences (percent)  \\\n",
       "0                                         1.2   \n",
       "1                                         1.2   \n",
       "2                                           2   \n",
       "3                                         1.2   \n",
       "4                                         1.2   \n",
       "\n",
       "  Incomplete Independent Study Absences (percent) Excused Absences (count)  \\\n",
       "0                                             1.3                 19064169   \n",
       "1                                             0.8               18870613.8   \n",
       "2                                            25.5                 172644.4   \n",
       "3                                             0.5               17708600.7   \n",
       "4                                             0.4               17545022.8   \n",
       "\n",
       "  Unexcused Absences (count) Out-of-School Suspension Absences (count)  \\\n",
       "0                    9683632                                  349160.2   \n",
       "1                  9479676.1                                  333743.4   \n",
       "2                   179284.9                                      9843   \n",
       "3                  8755769.3                                  327070.8   \n",
       "4                  8601411.1                                  314734.6   \n",
       "\n",
       "  Incomplete Independent Study Absences (count)  \n",
       "0                                        377021  \n",
       "1                                        241964  \n",
       "2                                      123962.1  \n",
       "3                                      136820.2  \n",
       "4                                        117033  "
      ]
     },
     "execution_count": 22,
     "metadata": {},
     "output_type": "execute_result"
    }
   ],
   "source": [
    "# take a look at data\n",
    "\n",
    "absents.head()"
   ]
  },
  {
   "cell_type": "code",
   "execution_count": 27,
   "id": "92791185",
   "metadata": {
    "id": "92791185"
   },
   "outputs": [],
   "source": [
    "## filter absents so that 'Aggregate Level' =='S'\n",
    "\n",
    "absents = absents[absents['Aggregate Level']=='S']"
   ]
  },
  {
   "cell_type": "code",
   "execution_count": 28,
   "id": "dcdafb92",
   "metadata": {
    "id": "dcdafb92"
   },
   "outputs": [],
   "source": [
    "## merge with cds_schools to get cds_codes\n",
    "\n",
    "absents = absents.rename(columns = {'School Name':'School', 'County Name':'County',\n",
    "                                   'District Name':'District'}).merge(cds_schools, how = 'left')"
   ]
  },
  {
   "cell_type": "code",
   "execution_count": 29,
   "id": "686afa4e",
   "metadata": {
    "id": "686afa4e"
   },
   "outputs": [],
   "source": [
    "# replace '*' with np.nan\n",
    "\n",
    "absents = absents.replace('*', np.nan)"
   ]
  },
  {
   "cell_type": "code",
   "execution_count": 30,
   "id": "82bfaf9f",
   "metadata": {
    "id": "82bfaf9f"
   },
   "outputs": [],
   "source": [
    "## change County Code to proper Data Type\n",
    "\n",
    "absents['County Code']= absents['County Code'].astype(int)\n",
    "absents['County Code']= absents['County Code'].astype('string')"
   ]
  },
  {
   "cell_type": "code",
   "execution_count": 31,
   "id": "1b48c5a8",
   "metadata": {
    "id": "1b48c5a8"
   },
   "outputs": [],
   "source": [
    "## filter data needed for database\n",
    "\n",
    "absents = absents[['Academic Year', 'County Code', 'CDSCode', 'County', 'District', 'School', 'Reporting Category',\n",
    "                  'Eligible Cumulative Enrollment', 'Count of Students with One or More Absences',\n",
    "                  'Average Days Absent', 'Total Days Absent', 'Excused Absences (percent)', 'Unexcused Absences (percent)',\n",
    "                  'Out-of-School Suspension Absences (percent)']]\n"
   ]
  },
  {
   "cell_type": "markdown",
   "id": "1f7879c0",
   "metadata": {
    "id": "1f7879c0"
   },
   "source": [
    "## enrollment"
   ]
  },
  {
   "cell_type": "code",
   "execution_count": 32,
   "id": "b8e7ec9f",
   "metadata": {
    "id": "b8e7ec9f"
   },
   "outputs": [],
   "source": [
    "## read csvs\n",
    "\n",
    "enr_18 = pd.read_csv('data_files/csvs/filesenr1718.asp.csv')\n",
    "enr_19 = pd.read_csv('data_files/csvs/filesenr_1819.asp.csv')\n",
    "enr_20 = pd.read_csv('data_files/csvs/filesenr1920.asp.csv')\n",
    "enr_21 = pd.read_csv('data_files/csvs/filesenr_2021.asp.csv')"
   ]
  },
  {
   "cell_type": "code",
   "execution_count": 33,
   "id": "e9a54024",
   "metadata": {
    "id": "e9a54024"
   },
   "outputs": [],
   "source": [
    "## add academic year to respective dfs\n",
    "\n",
    "enr_18['Academic Year'] = '2017-18'\n",
    "enr_19['Academic Year'] = '2018-19'\n",
    "enr_20['Academic Year'] = '2019-20'\n",
    "enr_21['Academic Year'] = '2020-21'"
   ]
  },
  {
   "cell_type": "code",
   "execution_count": 34,
   "id": "7465e0c8",
   "metadata": {
    "id": "7465e0c8"
   },
   "outputs": [],
   "source": [
    "## concatenate dfs\n",
    "\n",
    "enr = pd.concat([enr_18, enr_19, enr_20, enr_21])"
   ]
  },
  {
   "cell_type": "code",
   "execution_count": 35,
   "id": "21cf2940",
   "metadata": {
    "id": "21cf2940"
   },
   "outputs": [],
   "source": [
    "## add county code to enr\n",
    "\n",
    "enr['County Code'] = enr['COUNTY'].map(cc_dict)"
   ]
  },
  {
   "cell_type": "code",
   "execution_count": 36,
   "id": "5023906a",
   "metadata": {
    "id": "5023906a"
   },
   "outputs": [],
   "source": [
    "# change data type for cds_code\n",
    "\n",
    "enr['CDS_CODE'] = enr['CDS_CODE'].astype(int)"
   ]
  },
  {
   "cell_type": "code",
   "execution_count": 37,
   "id": "d04f8b5d",
   "metadata": {
    "id": "d04f8b5d"
   },
   "outputs": [],
   "source": [
    "# change data type for cds_code\n",
    "\n",
    "enr['CDS_CODE'] = enr['CDS_CODE'].astype('string')"
   ]
  },
  {
   "cell_type": "code",
   "execution_count": 38,
   "id": "fe4f72b5",
   "metadata": {
    "id": "fe4f72b5"
   },
   "outputs": [],
   "source": [
    "# filter columns needed for database\n",
    "\n",
    "enr = enr[['Academic Year', 'CDS_CODE', 'County Code', 'COUNTY', 'DISTRICT', 'SCHOOL', 'ETHNIC', 'GENDER',\n",
    "          'KDGN', 'GR_1', 'GR_2', 'GR_3', 'GR_4', 'GR_5', 'GR_6', 'GR_7', 'GR_8', 'GR_9', 'GR_10',\n",
    "          'GR_11', 'GR_12', 'ADULT', 'ENR_TOTAL', 'UNGR_SEC']]"
   ]
  },
  {
   "cell_type": "markdown",
   "id": "572b2242",
   "metadata": {
    "id": "572b2242"
   },
   "source": [
    "## ell <a name = \"ac_year\"></a>"
   ]
  },
  {
   "cell_type": "code",
   "execution_count": 23,
   "id": "4b00cfd7",
   "metadata": {
    "id": "4b00cfd7"
   },
   "outputs": [],
   "source": [
    "## read csvs\n",
    "\n",
    "ell_18 = pd.read_csv('data_files/csvs/fileselsch1718.csv')\n",
    "ell_19 = pd.read_csv('data_files/csvs/fileselsch1819.csv')\n",
    "ell_20 =pd.read_csv('data_files/csvs/fileselsch1920.csv')\n",
    "ell_21 = pd.read_csv('data_files/csvs/fileselsch2021.csv')"
   ]
  },
  {
   "cell_type": "code",
   "execution_count": 24,
   "id": "1bd4a25e",
   "metadata": {},
   "outputs": [
    {
     "data": {
      "text/html": [
       "<div>\n",
       "<style scoped>\n",
       "    .dataframe tbody tr th:only-of-type {\n",
       "        vertical-align: middle;\n",
       "    }\n",
       "\n",
       "    .dataframe tbody tr th {\n",
       "        vertical-align: top;\n",
       "    }\n",
       "\n",
       "    .dataframe thead th {\n",
       "        text-align: right;\n",
       "    }\n",
       "</style>\n",
       "<table border=\"1\" class=\"dataframe\">\n",
       "  <thead>\n",
       "    <tr style=\"text-align: right;\">\n",
       "      <th></th>\n",
       "      <th>CDS</th>\n",
       "      <th>COUNTY</th>\n",
       "      <th>DISTRICT</th>\n",
       "      <th>SCHOOL</th>\n",
       "      <th>LC</th>\n",
       "      <th>LANGUAGE</th>\n",
       "      <th>KDGN</th>\n",
       "      <th>GR_1</th>\n",
       "      <th>GR_2</th>\n",
       "      <th>GR_3</th>\n",
       "      <th>GR_4</th>\n",
       "      <th>GR_5</th>\n",
       "      <th>GR_6</th>\n",
       "      <th>GR_7</th>\n",
       "      <th>GR_8</th>\n",
       "      <th>GR_9</th>\n",
       "      <th>GR_10</th>\n",
       "      <th>GR_11</th>\n",
       "      <th>GR_12</th>\n",
       "      <th>UNGR</th>\n",
       "      <th>TOTAL_EL</th>\n",
       "    </tr>\n",
       "  </thead>\n",
       "  <tbody>\n",
       "    <tr>\n",
       "      <th>0</th>\n",
       "      <td>1.100170e+12</td>\n",
       "      <td>Alameda</td>\n",
       "      <td>Alameda County Office of Education</td>\n",
       "      <td>Envision Academy for Arts &amp; Technology</td>\n",
       "      <td>1</td>\n",
       "      <td>Spanish</td>\n",
       "      <td>0</td>\n",
       "      <td>0</td>\n",
       "      <td>0</td>\n",
       "      <td>0</td>\n",
       "      <td>0</td>\n",
       "      <td>0</td>\n",
       "      <td>0</td>\n",
       "      <td>0</td>\n",
       "      <td>0</td>\n",
       "      <td>27</td>\n",
       "      <td>9</td>\n",
       "      <td>8</td>\n",
       "      <td>5</td>\n",
       "      <td>0</td>\n",
       "      <td>49</td>\n",
       "    </tr>\n",
       "    <tr>\n",
       "      <th>1</th>\n",
       "      <td>1.100170e+12</td>\n",
       "      <td>Alameda</td>\n",
       "      <td>Alameda County Office of Education</td>\n",
       "      <td>Envision Academy for Arts &amp; Technology</td>\n",
       "      <td>11</td>\n",
       "      <td>Arabic</td>\n",
       "      <td>0</td>\n",
       "      <td>0</td>\n",
       "      <td>0</td>\n",
       "      <td>0</td>\n",
       "      <td>0</td>\n",
       "      <td>0</td>\n",
       "      <td>0</td>\n",
       "      <td>0</td>\n",
       "      <td>0</td>\n",
       "      <td>1</td>\n",
       "      <td>2</td>\n",
       "      <td>1</td>\n",
       "      <td>0</td>\n",
       "      <td>0</td>\n",
       "      <td>4</td>\n",
       "    </tr>\n",
       "    <tr>\n",
       "      <th>2</th>\n",
       "      <td>1.100170e+12</td>\n",
       "      <td>Alameda</td>\n",
       "      <td>Alameda County Office of Education</td>\n",
       "      <td>Envision Academy for Arts &amp; Technology</td>\n",
       "      <td>99</td>\n",
       "      <td>Other non-English languages</td>\n",
       "      <td>0</td>\n",
       "      <td>0</td>\n",
       "      <td>0</td>\n",
       "      <td>0</td>\n",
       "      <td>0</td>\n",
       "      <td>0</td>\n",
       "      <td>0</td>\n",
       "      <td>0</td>\n",
       "      <td>0</td>\n",
       "      <td>1</td>\n",
       "      <td>0</td>\n",
       "      <td>0</td>\n",
       "      <td>0</td>\n",
       "      <td>0</td>\n",
       "      <td>1</td>\n",
       "    </tr>\n",
       "    <tr>\n",
       "      <th>3</th>\n",
       "      <td>1.100170e+12</td>\n",
       "      <td>Alameda</td>\n",
       "      <td>Alameda County Office of Education</td>\n",
       "      <td>Community School for Creative Education</td>\n",
       "      <td>1</td>\n",
       "      <td>Spanish</td>\n",
       "      <td>6</td>\n",
       "      <td>13</td>\n",
       "      <td>12</td>\n",
       "      <td>10</td>\n",
       "      <td>9</td>\n",
       "      <td>11</td>\n",
       "      <td>10</td>\n",
       "      <td>7</td>\n",
       "      <td>3</td>\n",
       "      <td>0</td>\n",
       "      <td>0</td>\n",
       "      <td>0</td>\n",
       "      <td>0</td>\n",
       "      <td>0</td>\n",
       "      <td>81</td>\n",
       "    </tr>\n",
       "    <tr>\n",
       "      <th>4</th>\n",
       "      <td>1.100170e+12</td>\n",
       "      <td>Alameda</td>\n",
       "      <td>Alameda County Office of Education</td>\n",
       "      <td>Community School for Creative Education</td>\n",
       "      <td>7</td>\n",
       "      <td>Mandarin (Putonghua)</td>\n",
       "      <td>0</td>\n",
       "      <td>0</td>\n",
       "      <td>0</td>\n",
       "      <td>0</td>\n",
       "      <td>0</td>\n",
       "      <td>0</td>\n",
       "      <td>1</td>\n",
       "      <td>0</td>\n",
       "      <td>0</td>\n",
       "      <td>0</td>\n",
       "      <td>0</td>\n",
       "      <td>0</td>\n",
       "      <td>0</td>\n",
       "      <td>0</td>\n",
       "      <td>1</td>\n",
       "    </tr>\n",
       "  </tbody>\n",
       "</table>\n",
       "</div>"
      ],
      "text/plain": [
       "            CDS   COUNTY                            DISTRICT  \\\n",
       "0  1.100170e+12  Alameda  Alameda County Office of Education   \n",
       "1  1.100170e+12  Alameda  Alameda County Office of Education   \n",
       "2  1.100170e+12  Alameda  Alameda County Office of Education   \n",
       "3  1.100170e+12  Alameda  Alameda County Office of Education   \n",
       "4  1.100170e+12  Alameda  Alameda County Office of Education   \n",
       "\n",
       "                                    SCHOOL  LC                     LANGUAGE  \\\n",
       "0   Envision Academy for Arts & Technology   1                      Spanish   \n",
       "1   Envision Academy for Arts & Technology  11                       Arabic   \n",
       "2   Envision Academy for Arts & Technology  99  Other non-English languages   \n",
       "3  Community School for Creative Education   1                      Spanish   \n",
       "4  Community School for Creative Education   7         Mandarin (Putonghua)   \n",
       "\n",
       "   KDGN  GR_1  GR_2  GR_3  GR_4  GR_5  GR_6  GR_7  GR_8  GR_9  GR_10  GR_11  \\\n",
       "0     0     0     0     0     0     0     0     0     0    27      9      8   \n",
       "1     0     0     0     0     0     0     0     0     0     1      2      1   \n",
       "2     0     0     0     0     0     0     0     0     0     1      0      0   \n",
       "3     6    13    12    10     9    11    10     7     3     0      0      0   \n",
       "4     0     0     0     0     0     0     1     0     0     0      0      0   \n",
       "\n",
       "   GR_12  UNGR  TOTAL_EL  \n",
       "0      5     0        49  \n",
       "1      0     0         4  \n",
       "2      0     0         1  \n",
       "3      0     0        81  \n",
       "4      0     0         1  "
      ]
     },
     "execution_count": 24,
     "metadata": {},
     "output_type": "execute_result"
    }
   ],
   "source": [
    "ell_18.head()"
   ]
  },
  {
   "cell_type": "code",
   "execution_count": 25,
   "id": "a5b41b75",
   "metadata": {
    "id": "a5b41b75"
   },
   "outputs": [],
   "source": [
    "## add academic years to dfs\n",
    "\n",
    "ell_18['Academic Year'] = '2017-2018'\n",
    "ell_19['Academic Year'] = '2018-2019'\n",
    "ell_20['Academic Year'] = '2019-2020'\n",
    "ell_21['Academic Year'] = '2020-2021'"
   ]
  },
  {
   "cell_type": "code",
   "execution_count": 26,
   "id": "150f4eb3",
   "metadata": {},
   "outputs": [
    {
     "data": {
      "text/html": [
       "<div>\n",
       "<style scoped>\n",
       "    .dataframe tbody tr th:only-of-type {\n",
       "        vertical-align: middle;\n",
       "    }\n",
       "\n",
       "    .dataframe tbody tr th {\n",
       "        vertical-align: top;\n",
       "    }\n",
       "\n",
       "    .dataframe thead th {\n",
       "        text-align: right;\n",
       "    }\n",
       "</style>\n",
       "<table border=\"1\" class=\"dataframe\">\n",
       "  <thead>\n",
       "    <tr style=\"text-align: right;\">\n",
       "      <th></th>\n",
       "      <th>CDS</th>\n",
       "      <th>COUNTY</th>\n",
       "      <th>DISTRICT</th>\n",
       "      <th>SCHOOL</th>\n",
       "      <th>LC</th>\n",
       "      <th>LANGUAGE</th>\n",
       "      <th>KDGN</th>\n",
       "      <th>GR_1</th>\n",
       "      <th>GR_2</th>\n",
       "      <th>GR_3</th>\n",
       "      <th>GR_4</th>\n",
       "      <th>GR_5</th>\n",
       "      <th>GR_6</th>\n",
       "      <th>GR_7</th>\n",
       "      <th>GR_8</th>\n",
       "      <th>GR_9</th>\n",
       "      <th>GR_10</th>\n",
       "      <th>GR_11</th>\n",
       "      <th>GR_12</th>\n",
       "      <th>UNGR</th>\n",
       "      <th>TOTAL_EL</th>\n",
       "      <th>Academic Year</th>\n",
       "    </tr>\n",
       "  </thead>\n",
       "  <tbody>\n",
       "    <tr>\n",
       "      <th>0</th>\n",
       "      <td>1.100170e+12</td>\n",
       "      <td>Alameda</td>\n",
       "      <td>Alameda County Office of Education</td>\n",
       "      <td>Envision Academy for Arts &amp; Technology</td>\n",
       "      <td>1</td>\n",
       "      <td>Spanish</td>\n",
       "      <td>0</td>\n",
       "      <td>0</td>\n",
       "      <td>0</td>\n",
       "      <td>0</td>\n",
       "      <td>0</td>\n",
       "      <td>0</td>\n",
       "      <td>0</td>\n",
       "      <td>0</td>\n",
       "      <td>0</td>\n",
       "      <td>27</td>\n",
       "      <td>9</td>\n",
       "      <td>8</td>\n",
       "      <td>5</td>\n",
       "      <td>0</td>\n",
       "      <td>49</td>\n",
       "      <td>2017-2018</td>\n",
       "    </tr>\n",
       "    <tr>\n",
       "      <th>1</th>\n",
       "      <td>1.100170e+12</td>\n",
       "      <td>Alameda</td>\n",
       "      <td>Alameda County Office of Education</td>\n",
       "      <td>Envision Academy for Arts &amp; Technology</td>\n",
       "      <td>11</td>\n",
       "      <td>Arabic</td>\n",
       "      <td>0</td>\n",
       "      <td>0</td>\n",
       "      <td>0</td>\n",
       "      <td>0</td>\n",
       "      <td>0</td>\n",
       "      <td>0</td>\n",
       "      <td>0</td>\n",
       "      <td>0</td>\n",
       "      <td>0</td>\n",
       "      <td>1</td>\n",
       "      <td>2</td>\n",
       "      <td>1</td>\n",
       "      <td>0</td>\n",
       "      <td>0</td>\n",
       "      <td>4</td>\n",
       "      <td>2017-2018</td>\n",
       "    </tr>\n",
       "    <tr>\n",
       "      <th>2</th>\n",
       "      <td>1.100170e+12</td>\n",
       "      <td>Alameda</td>\n",
       "      <td>Alameda County Office of Education</td>\n",
       "      <td>Envision Academy for Arts &amp; Technology</td>\n",
       "      <td>99</td>\n",
       "      <td>Other non-English languages</td>\n",
       "      <td>0</td>\n",
       "      <td>0</td>\n",
       "      <td>0</td>\n",
       "      <td>0</td>\n",
       "      <td>0</td>\n",
       "      <td>0</td>\n",
       "      <td>0</td>\n",
       "      <td>0</td>\n",
       "      <td>0</td>\n",
       "      <td>1</td>\n",
       "      <td>0</td>\n",
       "      <td>0</td>\n",
       "      <td>0</td>\n",
       "      <td>0</td>\n",
       "      <td>1</td>\n",
       "      <td>2017-2018</td>\n",
       "    </tr>\n",
       "    <tr>\n",
       "      <th>3</th>\n",
       "      <td>1.100170e+12</td>\n",
       "      <td>Alameda</td>\n",
       "      <td>Alameda County Office of Education</td>\n",
       "      <td>Community School for Creative Education</td>\n",
       "      <td>1</td>\n",
       "      <td>Spanish</td>\n",
       "      <td>6</td>\n",
       "      <td>13</td>\n",
       "      <td>12</td>\n",
       "      <td>10</td>\n",
       "      <td>9</td>\n",
       "      <td>11</td>\n",
       "      <td>10</td>\n",
       "      <td>7</td>\n",
       "      <td>3</td>\n",
       "      <td>0</td>\n",
       "      <td>0</td>\n",
       "      <td>0</td>\n",
       "      <td>0</td>\n",
       "      <td>0</td>\n",
       "      <td>81</td>\n",
       "      <td>2017-2018</td>\n",
       "    </tr>\n",
       "    <tr>\n",
       "      <th>4</th>\n",
       "      <td>1.100170e+12</td>\n",
       "      <td>Alameda</td>\n",
       "      <td>Alameda County Office of Education</td>\n",
       "      <td>Community School for Creative Education</td>\n",
       "      <td>7</td>\n",
       "      <td>Mandarin (Putonghua)</td>\n",
       "      <td>0</td>\n",
       "      <td>0</td>\n",
       "      <td>0</td>\n",
       "      <td>0</td>\n",
       "      <td>0</td>\n",
       "      <td>0</td>\n",
       "      <td>1</td>\n",
       "      <td>0</td>\n",
       "      <td>0</td>\n",
       "      <td>0</td>\n",
       "      <td>0</td>\n",
       "      <td>0</td>\n",
       "      <td>0</td>\n",
       "      <td>0</td>\n",
       "      <td>1</td>\n",
       "      <td>2017-2018</td>\n",
       "    </tr>\n",
       "  </tbody>\n",
       "</table>\n",
       "</div>"
      ],
      "text/plain": [
       "            CDS   COUNTY                            DISTRICT  \\\n",
       "0  1.100170e+12  Alameda  Alameda County Office of Education   \n",
       "1  1.100170e+12  Alameda  Alameda County Office of Education   \n",
       "2  1.100170e+12  Alameda  Alameda County Office of Education   \n",
       "3  1.100170e+12  Alameda  Alameda County Office of Education   \n",
       "4  1.100170e+12  Alameda  Alameda County Office of Education   \n",
       "\n",
       "                                    SCHOOL  LC                     LANGUAGE  \\\n",
       "0   Envision Academy for Arts & Technology   1                      Spanish   \n",
       "1   Envision Academy for Arts & Technology  11                       Arabic   \n",
       "2   Envision Academy for Arts & Technology  99  Other non-English languages   \n",
       "3  Community School for Creative Education   1                      Spanish   \n",
       "4  Community School for Creative Education   7         Mandarin (Putonghua)   \n",
       "\n",
       "   KDGN  GR_1  GR_2  GR_3  GR_4  GR_5  GR_6  GR_7  GR_8  GR_9  GR_10  GR_11  \\\n",
       "0     0     0     0     0     0     0     0     0     0    27      9      8   \n",
       "1     0     0     0     0     0     0     0     0     0     1      2      1   \n",
       "2     0     0     0     0     0     0     0     0     0     1      0      0   \n",
       "3     6    13    12    10     9    11    10     7     3     0      0      0   \n",
       "4     0     0     0     0     0     0     1     0     0     0      0      0   \n",
       "\n",
       "   GR_12  UNGR  TOTAL_EL Academic Year  \n",
       "0      5     0        49     2017-2018  \n",
       "1      0     0         4     2017-2018  \n",
       "2      0     0         1     2017-2018  \n",
       "3      0     0        81     2017-2018  \n",
       "4      0     0         1     2017-2018  "
      ]
     },
     "execution_count": 26,
     "metadata": {},
     "output_type": "execute_result"
    }
   ],
   "source": [
    "ell_18.head()"
   ]
  },
  {
   "cell_type": "code",
   "execution_count": 27,
   "id": "c8f08594",
   "metadata": {
    "id": "c8f08594"
   },
   "outputs": [],
   "source": [
    "## concat dfs\n",
    "\n",
    "ell = pd.concat([ell_18, ell_19, ell_20, ell_21])"
   ]
  },
  {
   "cell_type": "code",
   "execution_count": 44,
   "id": "9abc63a5",
   "metadata": {
    "id": "9abc63a5"
   },
   "outputs": [],
   "source": [
    "## add county code\n",
    "\n",
    "ell['County Code'] = ell['COUNTY'].map(cc_dict)"
   ]
  },
  {
   "cell_type": "code",
   "execution_count": 45,
   "id": "ad71da8c",
   "metadata": {
    "id": "ad71da8c"
   },
   "outputs": [],
   "source": [
    "ell['CDS'] = ell['CDS'].astype(int)"
   ]
  },
  {
   "cell_type": "code",
   "execution_count": 46,
   "id": "d431d993",
   "metadata": {
    "id": "d431d993"
   },
   "outputs": [],
   "source": [
    "# change CDS code type\n",
    "\n",
    "ell['CDS'] = ell['CDS'].astype('string')"
   ]
  },
  {
   "cell_type": "code",
   "execution_count": 47,
   "id": "2845c8cd",
   "metadata": {
    "id": "2845c8cd"
   },
   "outputs": [],
   "source": [
    "# filter columns needed for database\n",
    "\n",
    "ell = ell[['Academic Year', 'County Code','CDS', 'COUNTY', 'DISTRICT', 'SCHOOL', 'LC', 'LANGUAGE',\n",
    "          'KDGN','GR_1', 'GR_2', 'GR_3', 'GR_4', 'GR_5', 'GR_6', 'GR_7', 'GR_8', 'GR_9',\n",
    "           'GR_10', 'GR_11', 'GR_12', 'TOTAL_EL']]"
   ]
  },
  {
   "cell_type": "markdown",
   "id": "a563e694",
   "metadata": {
    "id": "a563e694"
   },
   "source": [
    "## grads"
   ]
  },
  {
   "cell_type": "code",
   "execution_count": 48,
   "id": "8ec7efab",
   "metadata": {
    "id": "8ec7efab"
   },
   "outputs": [],
   "source": [
    "## read csvs\n",
    "\n",
    "grad_18 = pd.read_csv('data_files/csvs/graduates1718.csv')\n",
    "grad_19 = pd.read_csv('data_files/csvs/graduates1819.csv')\n",
    "grad_20 = pd.read_csv('data_files/csvs/graduates1920.csv')\n",
    "grad_21 = pd.read_csv('data_files/csvs/graduates2021.csv')"
   ]
  },
  {
   "cell_type": "code",
   "execution_count": 49,
   "id": "93f0b087",
   "metadata": {
    "id": "93f0b087"
   },
   "outputs": [],
   "source": [
    "# reset columns; grad_18\n",
    "\n",
    "grad_18.columns = grad_18.iloc[0]\n",
    "grad_18.drop(index = 0, axis = 0, inplace = True)"
   ]
  },
  {
   "cell_type": "code",
   "execution_count": 50,
   "id": "f1f0b45e",
   "metadata": {
    "id": "f1f0b45e"
   },
   "outputs": [],
   "source": [
    "# reset columns; grad_19\n",
    "\n",
    "grad_19.columns = grad_19.iloc[0]\n",
    "grad_19.drop(index = 0, axis = 0, inplace = True)"
   ]
  },
  {
   "cell_type": "code",
   "execution_count": 51,
   "id": "0163d965",
   "metadata": {
    "id": "0163d965"
   },
   "outputs": [],
   "source": [
    "# reset columns; grad_20\n",
    "\n",
    "grad_20.columns = grad_20.iloc[0]\n",
    "grad_20.drop(index = 0, axis = 0, inplace = True)"
   ]
  },
  {
   "cell_type": "code",
   "execution_count": 52,
   "id": "8e02d4dd",
   "metadata": {
    "id": "8e02d4dd"
   },
   "outputs": [],
   "source": [
    "# reset columns; grad_21\n",
    "\n",
    "grad_21.columns = grad_21.iloc[0]\n",
    "grad_21.drop(index = 0, axis = 0, inplace = True)"
   ]
  },
  {
   "cell_type": "code",
   "execution_count": 53,
   "id": "978e46f2",
   "metadata": {
    "id": "978e46f2"
   },
   "outputs": [],
   "source": [
    "# concatenate dfs\n",
    "\n",
    "grads = pd.concat([grad_18, grad_19, grad_20, grad_21])"
   ]
  },
  {
   "cell_type": "code",
   "execution_count": 54,
   "id": "ad3269f1",
   "metadata": {
    "id": "ad3269f1"
   },
   "outputs": [],
   "source": [
    "# filter aggregate level == 'S'\n",
    "\n",
    "grads = grads[grads['Aggregate Level']=='S']"
   ]
  },
  {
   "cell_type": "code",
   "execution_count": 55,
   "id": "732a89f7",
   "metadata": {
    "id": "732a89f7"
   },
   "outputs": [],
   "source": [
    "## add cds_codes\n",
    "\n",
    "grads = grads.rename(columns={'County Name':'County', 'District Name':'District',\n",
    "                            'School Name':'School'}).merge(cds_schools, how = 'left')"
   ]
  },
  {
   "cell_type": "code",
   "execution_count": 56,
   "id": "e3eb7fa5",
   "metadata": {
    "id": "e3eb7fa5",
    "outputId": "95322c3b-c120-491e-a214-0b0a464453aa"
   },
   "outputs": [
    {
     "data": {
      "text/plain": [
       "Academic Year                object\n",
       "Aggregate Level              object\n",
       "County Code                  object\n",
       "District Code                object\n",
       "School Code                  object\n",
       "County                       object\n",
       "District                     object\n",
       "School                       object\n",
       "Reporting Category           object\n",
       "One-Year \\nGraduate Count    object\n",
       "CDSCode                      string\n",
       "dtype: object"
      ]
     },
     "execution_count": 56,
     "metadata": {},
     "output_type": "execute_result"
    }
   ],
   "source": [
    "grads.dtypes"
   ]
  },
  {
   "cell_type": "code",
   "execution_count": 57,
   "id": "4fa22b61",
   "metadata": {
    "id": "4fa22b61"
   },
   "outputs": [],
   "source": [
    "# filter columns needed for database\n",
    "\n",
    "grads = grads[['Academic Year', 'County Code', 'CDSCode', 'District Code', 'County', 'District', 'School',\n",
    "              'Reporting Category', 'One-Year \\nGraduate Count']]"
   ]
  },
  {
   "cell_type": "markdown",
   "id": "52791267",
   "metadata": {
    "id": "52791267"
   },
   "source": [
    "## college going rate"
   ]
  },
  {
   "cell_type": "code",
   "execution_count": 58,
   "id": "d67d89e0",
   "metadata": {
    "id": "d67d89e0"
   },
   "outputs": [],
   "source": [
    "# read in csvs\n",
    "\n",
    "cgr_18 = pd.read_csv('data_files/csvs/cgr12mo18.csv')\n",
    "cgr_19 = pd.read_csv('data_files/csvs/cgr12mo19.csv')\n",
    "cgr_20 = pd.read_csv('data_files/csvs/cgr12mo20.csv')\n",
    "cgr_21 = pd.read_csv('data_files/csvs/cgr12mo21.csv')"
   ]
  },
  {
   "cell_type": "code",
   "execution_count": 59,
   "id": "f79b3c47",
   "metadata": {
    "id": "f79b3c47"
   },
   "outputs": [],
   "source": [
    "# concat 3 dfs\n",
    "\n",
    "cgr = pd.concat([cgr_18, cgr_19, cgr_20, cgr_21])"
   ]
  },
  {
   "cell_type": "code",
   "execution_count": 60,
   "id": "a37bb0d8",
   "metadata": {
    "id": "a37bb0d8"
   },
   "outputs": [],
   "source": [
    "# filter aggregate level == 'S'\n",
    "\n",
    "cgr = cgr[cgr['AggregateLevel']=='S']"
   ]
  },
  {
   "cell_type": "code",
   "execution_count": 61,
   "id": "afc6b36a",
   "metadata": {
    "id": "afc6b36a"
   },
   "outputs": [],
   "source": [
    "## add cds codes\n",
    "\n",
    "cgr = cgr.rename(columns={'CountyName':'County', 'DistrictName':'District', 'SchoolName':'School'}).merge(cds_schools, how='left')"
   ]
  },
  {
   "cell_type": "code",
   "execution_count": 62,
   "id": "e9114673",
   "metadata": {
    "id": "e9114673"
   },
   "outputs": [],
   "source": [
    "# replace * with np.nan\n",
    "\n",
    "cgr = cgr.replace('*', np.nan)"
   ]
  },
  {
   "cell_type": "code",
   "execution_count": 63,
   "id": "e2b69eda",
   "metadata": {
    "id": "e2b69eda"
   },
   "outputs": [],
   "source": [
    "## filter columns needed for database\n",
    "\n",
    "cgr = cgr[['AcademicYear', 'CountyCode', 'CDSCode','DistrictCode', 'SchoolCode', 'County', 'District', 'School',\n",
    "          'ReportingCategory', 'CompleterType', 'High School Completers', 'Enrolled In College - Total (12 Months)',\n",
    "           'Enrolled In-State (12 Months)', 'Enrolled Out-of-State (12 Months)', 'Not Enrolled In College (12 Months)',\n",
    "          'Enrolled UC (12 Months)', 'Enrolled CSU (12 Months)', 'Enrolled CCC (12 Months)',\n",
    "          'Enrolled In-State Private (2 and 4 Year) (12 Months)', 'Enrolled Out-of-State 4-Year College (Public/Private) (12 Months)',\n",
    "          'Enrolled Out-of-State 2-Year College (Public/Private) (12 Months)']]\n"
   ]
  },
  {
   "cell_type": "markdown",
   "id": "cca09916",
   "metadata": {
    "id": "cca09916"
   },
   "source": [
    "## frmp"
   ]
  },
  {
   "cell_type": "code",
   "execution_count": 64,
   "id": "2a7fcfe8",
   "metadata": {
    "id": "2a7fcfe8"
   },
   "outputs": [],
   "source": [
    "## add cds_code to frmp\n",
    "\n",
    "frmp = frmp.rename(columns={'District Name':'District', 'County Name':'County', 'School Name':'School'\n",
    "            }).merge(cds_schools, how = 'left')"
   ]
  },
  {
   "cell_type": "code",
   "execution_count": 65,
   "id": "ee43ad86",
   "metadata": {
    "id": "ee43ad86"
   },
   "outputs": [],
   "source": [
    "## filter data needed for database\n",
    "\n",
    "frmp = frmp[['Academic Year', 'County Code', 'CDSCode','District Code', 'School Code', 'County', 'District',\n",
    "            'School', 'Low Grade', 'High Grade', 'Enrollment \\n(K-12)', 'Free Meal \\nCount \\n(K-12)',\n",
    "            'Percent (%) \\nEligible Free \\n(K-12)', 'FRPM Count \\n(K-12)', 'Percent (%) \\nEligible FRPM \\n(K-12)']]"
   ]
  },
  {
   "cell_type": "markdown",
   "id": "4fbf877c",
   "metadata": {
    "id": "4fbf877c"
   },
   "source": [
    "## create a counties table"
   ]
  },
  {
   "cell_type": "code",
   "execution_count": 66,
   "id": "3e3f063c",
   "metadata": {
    "id": "3e3f063c"
   },
   "outputs": [],
   "source": [
    "counties = schools.groupby(['County Code', 'County'])['School'].count().reset_index().rename(columns={'School':'School Count'})"
   ]
  },
  {
   "cell_type": "markdown",
   "id": "16f1db4e",
   "metadata": {
    "id": "16f1db4e"
   },
   "source": [
    "## export dfs to csvs"
   ]
  },
  {
   "cell_type": "code",
   "execution_count": 67,
   "id": "b3c7c80f",
   "metadata": {
    "id": "b3c7c80f"
   },
   "outputs": [],
   "source": [
    "##districts.to_csv('districts.csv', index=False, header=False)\n",
    "##schools.to_csv('schools.csv', index=False, header=False)\n",
    "##counties.to_csv('counties.csv', index=False, header=False)\n",
    "##absents.to_csv('absents.csv', index=False, header=False)\n",
    "##enr.to_csv('enr.csv', index=False, header=False)\n",
    "##frmp.to_csv('frmp.csv', index=False, header=False)\n",
    "##ell.to_csv('ell.csv', index=False, header=False)\n",
    "##grads.to_csv('grads.csv', index=False, header=False)\n",
    "##cgr.to_csv('cgr.csv', index=False, header=False)"
   ]
  },
  {
   "cell_type": "markdown",
   "id": "494c75d0",
   "metadata": {
    "id": "494c75d0"
   },
   "source": [
    "### take a look at data types for pgAdmin table creation <a name = \"dtypes\"></a>"
   ]
  },
  {
   "cell_type": "code",
   "execution_count": 68,
   "id": "8bfe2659",
   "metadata": {
    "id": "8bfe2659",
    "outputId": "32eaf96f-446c-43a4-e931-6d61ab672273"
   },
   "outputs": [
    {
     "data": {
      "text/plain": [
       "county_code     object\n",
       "CD Code         string\n",
       "County          object\n",
       "District        object\n",
       "Street          object\n",
       "City            object\n",
       "Zip             object\n",
       "State           object\n",
       "Phone           object\n",
       "FaxNumber       object\n",
       "Email           object\n",
       "AdmEmail        object\n",
       "Latitude       float64\n",
       "Longitude      float64\n",
       "DOC              int64\n",
       "DOCType         object\n",
       "StatusType      object\n",
       "LastUpDate      object\n",
       "dtype: object"
      ]
     },
     "execution_count": 68,
     "metadata": {},
     "output_type": "execute_result"
    }
   ],
   "source": [
    "districts.dtypes"
   ]
  },
  {
   "cell_type": "code",
   "execution_count": 69,
   "id": "7747a232",
   "metadata": {
    "id": "7747a232",
    "outputId": "a7d733d6-ab48-453a-dccb-e47280c14eae"
   },
   "outputs": [
    {
     "data": {
      "text/plain": [
       "County Code     object\n",
       "County          object\n",
       "School Count     int64\n",
       "dtype: object"
      ]
     },
     "execution_count": 69,
     "metadata": {},
     "output_type": "execute_result"
    }
   ],
   "source": [
    "counties.dtypes"
   ]
  },
  {
   "cell_type": "code",
   "execution_count": 70,
   "id": "cfb98988",
   "metadata": {
    "id": "cfb98988",
    "outputId": "bdb28daa-0f91-49b2-b512-2af3b2da6cf4"
   },
   "outputs": [
    {
     "data": {
      "text/plain": [
       "County Code    object\n",
       "CDSCode        string\n",
       "County         object\n",
       "District       object\n",
       "School         object\n",
       "StatusType     object\n",
       "Street         object\n",
       "City           object\n",
       "Zip            object\n",
       "State          object\n",
       "Phone          object\n",
       "FaxNumber      object\n",
       "Email          object\n",
       "WebSite        object\n",
       "OpenDate       object\n",
       "ClosedDate     object\n",
       "Charter        object\n",
       "SOC            object\n",
       "SOCType        object\n",
       "EdOpsName      object\n",
       "EILName        object\n",
       "GSoffered      object\n",
       "Virtual        object\n",
       "YearRoundYN    object\n",
       "Latitude       object\n",
       "Longitude      object\n",
       "AdmEmail       object\n",
       "LastUpDate     object\n",
       "dtype: object"
      ]
     },
     "execution_count": 70,
     "metadata": {},
     "output_type": "execute_result"
    }
   ],
   "source": [
    "schools.dtypes"
   ]
  },
  {
   "cell_type": "code",
   "execution_count": 71,
   "id": "627df4a7",
   "metadata": {
    "id": "627df4a7",
    "outputId": "ae3971a9-fe5b-475d-c48e-e7b372060a79"
   },
   "outputs": [
    {
     "data": {
      "text/plain": [
       "Academic Year                                  object\n",
       "County Code                                    string\n",
       "CDSCode                                        string\n",
       "County                                         object\n",
       "District                                       object\n",
       "School                                         object\n",
       "Reporting Category                             object\n",
       "Eligible Cumulative Enrollment                 object\n",
       "Count of Students with One or More Absences    object\n",
       "Average Days Absent                            object\n",
       "Total Days Absent                              object\n",
       "Excused Absences (percent)                     object\n",
       "Unexcused Absences (percent)                   object\n",
       "Out-of-School Suspension Absences (percent)    object\n",
       "dtype: object"
      ]
     },
     "execution_count": 71,
     "metadata": {},
     "output_type": "execute_result"
    }
   ],
   "source": [
    "absents.dtypes"
   ]
  },
  {
   "cell_type": "code",
   "execution_count": 72,
   "id": "69eb700f",
   "metadata": {
    "id": "69eb700f",
    "outputId": "d405a783-3c53-4426-d1bc-5e8e930c2884"
   },
   "outputs": [
    {
     "data": {
      "text/plain": [
       "Academic Year    object\n",
       "CDS_CODE         string\n",
       "County Code      object\n",
       "COUNTY           object\n",
       "DISTRICT         object\n",
       "SCHOOL           object\n",
       "ETHNIC            int64\n",
       "GENDER           object\n",
       "KDGN              int64\n",
       "GR_1              int64\n",
       "GR_2              int64\n",
       "GR_3              int64\n",
       "GR_4              int64\n",
       "GR_5              int64\n",
       "GR_6              int64\n",
       "GR_7              int64\n",
       "GR_8              int64\n",
       "GR_9              int64\n",
       "GR_10             int64\n",
       "GR_11             int64\n",
       "GR_12             int64\n",
       "ADULT             int64\n",
       "ENR_TOTAL         int64\n",
       "UNGR_SEC          int64\n",
       "dtype: object"
      ]
     },
     "execution_count": 72,
     "metadata": {},
     "output_type": "execute_result"
    }
   ],
   "source": [
    "enr.dtypes"
   ]
  },
  {
   "cell_type": "code",
   "execution_count": 73,
   "id": "d10bc8fb",
   "metadata": {
    "id": "d10bc8fb",
    "outputId": "8c5c244f-f485-48fe-b120-2724847151f4"
   },
   "outputs": [
    {
     "data": {
      "text/plain": [
       "Academic Year    object\n",
       "County Code      object\n",
       "CDS              string\n",
       "COUNTY           object\n",
       "DISTRICT         object\n",
       "SCHOOL           object\n",
       "LC                int64\n",
       "LANGUAGE         object\n",
       "KDGN              int64\n",
       "GR_1              int64\n",
       "GR_2              int64\n",
       "GR_3              int64\n",
       "GR_4              int64\n",
       "GR_5              int64\n",
       "GR_6              int64\n",
       "GR_7              int64\n",
       "GR_8              int64\n",
       "GR_9              int64\n",
       "GR_10             int64\n",
       "GR_11             int64\n",
       "GR_12             int64\n",
       "TOTAL_EL          int64\n",
       "dtype: object"
      ]
     },
     "execution_count": 73,
     "metadata": {},
     "output_type": "execute_result"
    }
   ],
   "source": [
    "ell.dtypes"
   ]
  },
  {
   "cell_type": "code",
   "execution_count": 74,
   "id": "a56357bb",
   "metadata": {
    "id": "a56357bb",
    "outputId": "7b441f87-f583-4bae-b011-656a1c802658"
   },
   "outputs": [
    {
     "data": {
      "text/plain": [
       "Academic Year                           object\n",
       "County Code                             object\n",
       "CDSCode                                 string\n",
       "District Code                           object\n",
       "School Code                             object\n",
       "County                                  object\n",
       "District                                object\n",
       "School                                  object\n",
       "Low Grade                               object\n",
       "High Grade                              object\n",
       "Enrollment \\n(K-12)                     object\n",
       "Free Meal \\nCount \\n(K-12)              object\n",
       "Percent (%) \\nEligible Free \\n(K-12)    object\n",
       "FRPM Count \\n(K-12)                     object\n",
       "Percent (%) \\nEligible FRPM \\n(K-12)    object\n",
       "dtype: object"
      ]
     },
     "execution_count": 74,
     "metadata": {},
     "output_type": "execute_result"
    }
   ],
   "source": [
    "frmp.dtypes"
   ]
  },
  {
   "cell_type": "code",
   "execution_count": 75,
   "id": "2ad3ca0f",
   "metadata": {
    "id": "2ad3ca0f",
    "outputId": "48898739-4a83-47e1-c963-8f2ca7aa443d"
   },
   "outputs": [
    {
     "data": {
      "text/plain": [
       "Academic Year                object\n",
       "County Code                  object\n",
       "CDSCode                      string\n",
       "District Code                object\n",
       "County                       object\n",
       "District                     object\n",
       "School                       object\n",
       "Reporting Category           object\n",
       "One-Year \\nGraduate Count    object\n",
       "dtype: object"
      ]
     },
     "execution_count": 75,
     "metadata": {},
     "output_type": "execute_result"
    }
   ],
   "source": [
    "grads.dtypes"
   ]
  },
  {
   "cell_type": "code",
   "execution_count": 76,
   "id": "50b6bc1e",
   "metadata": {
    "id": "50b6bc1e",
    "outputId": "57a850e8-acc1-4cc8-9a2b-d1606e14b0b2"
   },
   "outputs": [
    {
     "data": {
      "text/plain": [
       "AcademicYear                                                          object\n",
       "CountyCode                                                             int64\n",
       "CDSCode                                                               string\n",
       "DistrictCode                                                         float64\n",
       "SchoolCode                                                           float64\n",
       "County                                                                object\n",
       "District                                                              object\n",
       "School                                                                object\n",
       "ReportingCategory                                                     object\n",
       "CompleterType                                                         object\n",
       "High School Completers                                                object\n",
       "Enrolled In College - Total (12 Months)                               object\n",
       "Enrolled In-State (12 Months)                                         object\n",
       "Enrolled Out-of-State (12 Months)                                     object\n",
       "Not Enrolled In College (12 Months)                                   object\n",
       "Enrolled UC (12 Months)                                               object\n",
       "Enrolled CSU (12 Months)                                              object\n",
       "Enrolled CCC (12 Months)                                              object\n",
       "Enrolled In-State Private (2 and 4 Year) (12 Months)                  object\n",
       "Enrolled Out-of-State 4-Year College (Public/Private) (12 Months)     object\n",
       "Enrolled Out-of-State 2-Year College (Public/Private) (12 Months)     object\n",
       "dtype: object"
      ]
     },
     "execution_count": 76,
     "metadata": {},
     "output_type": "execute_result"
    }
   ],
   "source": [
    "cgr.dtypes"
   ]
  }
 ],
 "metadata": {
  "colab": {
   "provenance": []
  },
  "kernelspec": {
   "display_name": "Python 3 (ipykernel)",
   "language": "python",
   "name": "python3"
  },
  "language_info": {
   "codemirror_mode": {
    "name": "ipython",
    "version": 3
   },
   "file_extension": ".py",
   "mimetype": "text/x-python",
   "name": "python",
   "nbconvert_exporter": "python",
   "pygments_lexer": "ipython3",
   "version": "3.9.12"
  }
 },
 "nbformat": 4,
 "nbformat_minor": 5
}
